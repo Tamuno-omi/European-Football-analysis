{
 "cells": [
  {
   "cell_type": "markdown",
   "metadata": {},
   "source": [
    "\n",
    "\n",
    "# Project: Investigate a Dataset - [European Football Database]\n",
    "\n",
    "## Table of Contents\n",
    "<ul>\n",
    "<li><a href=\"#intro\">Introduction</a></li>\n",
    "<li><a href=\"#wrangling\">Data Wrangling</a></li>\n",
    "<li><a href=\"#eda\">Exploratory Data Analysis</a></li>\n",
    "<li><a href=\"#conclusions\">Conclusions</a></li>\n",
    "</ul>"
   ]
  },
  {
   "cell_type": "markdown",
   "metadata": {},
   "source": [
    "<a id='intro'></a>\n",
    "## Introduction\n",
    "\n",
    "### Dataset Description \n",
    "\n",
    ">I will be performing an analysis on the European Football dataset gotten from [Kaggle](https://www.kaggle.com/hugomathien/soccer), this data set contains match information about 25979 games, players, and teams from several European countries from 2008 to 2016.\n",
    "\n",
    "### Some of the questions that will be answered through the analysis of this dataset include:\n",
    "\n",
    "> What is the most likely occurence in a game between(Home win, away win or draw)?\n",
    "\n",
    "> What teams have had the most wins  over the time period? \n",
    "\n",
    "> What is the average goal scored per game in the european leagues?\n",
    "\n",
    "> Which teams conceeded the most goals within the period ?\n",
    "\n",
    "> Which of the top five european leagues is the most competitive?"
   ]
  },
  {
   "cell_type": "code",
   "execution_count": 1,
   "metadata": {},
   "outputs": [],
   "source": [
    "# Use this cell to set up import statements for all of the packages that you\n",
    "#   plan to use.\n",
    "\n",
    "# Remember to include a 'magic word' so that your visualizations are plotted\n",
    "#   inline with the notebook. See this page for more:\n",
    "#   http://ipython.readthedocs.io/en/stable/interactive/magics.html\n",
    "\n",
    "\n",
    "import matplotlib.pyplot as plt\n",
    "import pandas as pd\n",
    "import numpy as np\n",
    "%matplotlib inline"
   ]
  },
  {
   "cell_type": "markdown",
   "metadata": {},
   "source": [
    "<a id='wrangling'></a>\n",
    "## Data Wrangling"
   ]
  },
  {
   "cell_type": "markdown",
   "metadata": {},
   "source": [
    "In this section of the report, I will be making observations about the dataset\n",
    "by performing operations to view available files, note features present in each file,\n",
    "inspect data types and look for instances of missing and duplicate data."
   ]
  },
  {
   "cell_type": "code",
   "execution_count": 5,
   "metadata": {},
   "outputs": [
    {
     "name": "stdout",
     "output_type": "stream",
     "text": [
      "['Match.csv', 'Player_Attributes.csv', 'Country.csv', 'Team_Attributes.csv', 'sqlite_sequence.csv', 'Player.csv', 'Team.csv', 'League.csv']\n"
     ]
    }
   ],
   "source": [
    "# Get file names from directory\n",
    "import os\n",
    "def fn():       \n",
    "    file_list=os.listdir(r\"Database_Soccer/\")\n",
    "    print (file_list)\n",
    "fn()"
   ]
  },
  {
   "cell_type": "code",
   "execution_count": null,
   "metadata": {},
   "outputs": [],
   "source": [
    "# Upgrade pandas to use dataframe.explode() function. \n",
    "!pip install --upgrade pandas==0.25.2"
   ]
  },
  {
   "cell_type": "code",
   "execution_count": 2,
   "metadata": {},
   "outputs": [],
   "source": [
    "# Access the various dataframes \n",
    "match_df = pd.read_csv('Database_Soccer/Match.csv')\n",
    "player_df = pd.read_csv('Database_Soccer/Player.csv')\n",
    "player_att_df = pd.read_csv('Database_Soccer/Player_Attributes.csv')\n",
    "country_df = pd.read_csv('Database_Soccer/Country.csv')\n",
    "team_df = pd.read_csv('Database_Soccer/Team.csv')\n",
    "team_att_df = pd.read_csv('Database_Soccer/Team_Attributes.csv')\n",
    "seq_df = pd.read_csv('Database_Soccer/sqlite_sequence.csv')\n",
    "league_df = pd.read_csv('Database_Soccer/League.csv')"
   ]
  },
  {
   "cell_type": "markdown",
   "metadata": {},
   "source": [
    "**Match**"
   ]
  },
  {
   "cell_type": "code",
   "execution_count": 7,
   "metadata": {},
   "outputs": [
    {
     "data": {
      "text/plain": [
       "(25979, 115)"
      ]
     },
     "execution_count": 7,
     "metadata": {},
     "output_type": "execute_result"
    }
   ],
   "source": [
    "match_df.shape"
   ]
  },
  {
   "cell_type": "code",
   "execution_count": 8,
   "metadata": {
    "scrolled": false
   },
   "outputs": [
    {
     "data": {
      "text/html": [
       "<div>\n",
       "<style scoped>\n",
       "    .dataframe tbody tr th:only-of-type {\n",
       "        vertical-align: middle;\n",
       "    }\n",
       "\n",
       "    .dataframe tbody tr th {\n",
       "        vertical-align: top;\n",
       "    }\n",
       "\n",
       "    .dataframe thead th {\n",
       "        text-align: right;\n",
       "    }\n",
       "</style>\n",
       "<table border=\"1\" class=\"dataframe\">\n",
       "  <thead>\n",
       "    <tr style=\"text-align: right;\">\n",
       "      <th></th>\n",
       "      <th>id</th>\n",
       "      <th>country_id</th>\n",
       "      <th>league_id</th>\n",
       "      <th>season</th>\n",
       "      <th>stage</th>\n",
       "      <th>date</th>\n",
       "      <th>match_api_id</th>\n",
       "      <th>home_team_api_id</th>\n",
       "      <th>away_team_api_id</th>\n",
       "      <th>home_team_goal</th>\n",
       "      <th>...</th>\n",
       "      <th>SJA</th>\n",
       "      <th>VCH</th>\n",
       "      <th>VCD</th>\n",
       "      <th>VCA</th>\n",
       "      <th>GBH</th>\n",
       "      <th>GBD</th>\n",
       "      <th>GBA</th>\n",
       "      <th>BSH</th>\n",
       "      <th>BSD</th>\n",
       "      <th>BSA</th>\n",
       "    </tr>\n",
       "  </thead>\n",
       "  <tbody>\n",
       "    <tr>\n",
       "      <th>0</th>\n",
       "      <td>1</td>\n",
       "      <td>1</td>\n",
       "      <td>1</td>\n",
       "      <td>2008/2009</td>\n",
       "      <td>1</td>\n",
       "      <td>2008-08-17 00:00:00</td>\n",
       "      <td>492473</td>\n",
       "      <td>9987</td>\n",
       "      <td>9993</td>\n",
       "      <td>1</td>\n",
       "      <td>...</td>\n",
       "      <td>4.0</td>\n",
       "      <td>1.65</td>\n",
       "      <td>3.40</td>\n",
       "      <td>4.50</td>\n",
       "      <td>1.78</td>\n",
       "      <td>3.25</td>\n",
       "      <td>4.00</td>\n",
       "      <td>1.73</td>\n",
       "      <td>3.40</td>\n",
       "      <td>4.20</td>\n",
       "    </tr>\n",
       "    <tr>\n",
       "      <th>1</th>\n",
       "      <td>2</td>\n",
       "      <td>1</td>\n",
       "      <td>1</td>\n",
       "      <td>2008/2009</td>\n",
       "      <td>1</td>\n",
       "      <td>2008-08-16 00:00:00</td>\n",
       "      <td>492474</td>\n",
       "      <td>10000</td>\n",
       "      <td>9994</td>\n",
       "      <td>0</td>\n",
       "      <td>...</td>\n",
       "      <td>3.8</td>\n",
       "      <td>2.00</td>\n",
       "      <td>3.25</td>\n",
       "      <td>3.25</td>\n",
       "      <td>1.85</td>\n",
       "      <td>3.25</td>\n",
       "      <td>3.75</td>\n",
       "      <td>1.91</td>\n",
       "      <td>3.25</td>\n",
       "      <td>3.60</td>\n",
       "    </tr>\n",
       "    <tr>\n",
       "      <th>2</th>\n",
       "      <td>3</td>\n",
       "      <td>1</td>\n",
       "      <td>1</td>\n",
       "      <td>2008/2009</td>\n",
       "      <td>1</td>\n",
       "      <td>2008-08-16 00:00:00</td>\n",
       "      <td>492475</td>\n",
       "      <td>9984</td>\n",
       "      <td>8635</td>\n",
       "      <td>0</td>\n",
       "      <td>...</td>\n",
       "      <td>2.5</td>\n",
       "      <td>2.35</td>\n",
       "      <td>3.25</td>\n",
       "      <td>2.65</td>\n",
       "      <td>2.50</td>\n",
       "      <td>3.20</td>\n",
       "      <td>2.50</td>\n",
       "      <td>2.30</td>\n",
       "      <td>3.20</td>\n",
       "      <td>2.75</td>\n",
       "    </tr>\n",
       "  </tbody>\n",
       "</table>\n",
       "<p>3 rows × 115 columns</p>\n",
       "</div>"
      ],
      "text/plain": [
       "   id  country_id  league_id     season  stage                 date  \\\n",
       "0   1           1          1  2008/2009      1  2008-08-17 00:00:00   \n",
       "1   2           1          1  2008/2009      1  2008-08-16 00:00:00   \n",
       "2   3           1          1  2008/2009      1  2008-08-16 00:00:00   \n",
       "\n",
       "   match_api_id  home_team_api_id  away_team_api_id  home_team_goal  ...   \\\n",
       "0        492473              9987              9993               1  ...    \n",
       "1        492474             10000              9994               0  ...    \n",
       "2        492475              9984              8635               0  ...    \n",
       "\n",
       "   SJA   VCH   VCD   VCA   GBH   GBD   GBA   BSH   BSD   BSA  \n",
       "0  4.0  1.65  3.40  4.50  1.78  3.25  4.00  1.73  3.40  4.20  \n",
       "1  3.8  2.00  3.25  3.25  1.85  3.25  3.75  1.91  3.25  3.60  \n",
       "2  2.5  2.35  3.25  2.65  2.50  3.20  2.50  2.30  3.20  2.75  \n",
       "\n",
       "[3 rows x 115 columns]"
      ]
     },
     "execution_count": 8,
     "metadata": {},
     "output_type": "execute_result"
    }
   ],
   "source": [
    "match_df.head(3)"
   ]
  },
  {
   "cell_type": "code",
   "execution_count": 9,
   "metadata": {},
   "outputs": [
    {
     "data": {
      "text/plain": [
       "id                    int64\n",
       "country_id            int64\n",
       "league_id             int64\n",
       "season               object\n",
       "stage                 int64\n",
       "date                 object\n",
       "match_api_id          int64\n",
       "home_team_api_id      int64\n",
       "away_team_api_id      int64\n",
       "home_team_goal        int64\n",
       "away_team_goal        int64\n",
       "home_player_X1      float64\n",
       "home_player_X2      float64\n",
       "home_player_X3      float64\n",
       "home_player_X4      float64\n",
       "home_player_X5      float64\n",
       "home_player_X6      float64\n",
       "home_player_X7      float64\n",
       "home_player_X8      float64\n",
       "home_player_X9      float64\n",
       "home_player_X10     float64\n",
       "home_player_X11     float64\n",
       "away_player_X1      float64\n",
       "away_player_X2      float64\n",
       "away_player_X3      float64\n",
       "away_player_X4      float64\n",
       "away_player_X5      float64\n",
       "away_player_X6      float64\n",
       "away_player_X7      float64\n",
       "away_player_X8      float64\n",
       "                     ...   \n",
       "B365H               float64\n",
       "B365D               float64\n",
       "B365A               float64\n",
       "BWH                 float64\n",
       "BWD                 float64\n",
       "BWA                 float64\n",
       "IWH                 float64\n",
       "IWD                 float64\n",
       "IWA                 float64\n",
       "LBH                 float64\n",
       "LBD                 float64\n",
       "LBA                 float64\n",
       "PSH                 float64\n",
       "PSD                 float64\n",
       "PSA                 float64\n",
       "WHH                 float64\n",
       "WHD                 float64\n",
       "WHA                 float64\n",
       "SJH                 float64\n",
       "SJD                 float64\n",
       "SJA                 float64\n",
       "VCH                 float64\n",
       "VCD                 float64\n",
       "VCA                 float64\n",
       "GBH                 float64\n",
       "GBD                 float64\n",
       "GBA                 float64\n",
       "BSH                 float64\n",
       "BSD                 float64\n",
       "BSA                 float64\n",
       "Length: 115, dtype: object"
      ]
     },
     "execution_count": 9,
     "metadata": {},
     "output_type": "execute_result"
    }
   ],
   "source": [
    "# Check data types \n",
    "match_df.dtypes"
   ]
  },
  {
   "cell_type": "code",
   "execution_count": 10,
   "metadata": {},
   "outputs": [
    {
     "name": "stdout",
     "output_type": "stream",
     "text": [
      "id country_id league_id season stage date match_api_id home_team_api_id away_team_api_id home_team_goal away_team_goal home_player_X1 home_player_X2 home_player_X3 home_player_X4 home_player_X5 home_player_X6 home_player_X7 home_player_X8 home_player_X9 home_player_X10 home_player_X11 away_player_X1 away_player_X2 away_player_X3 away_player_X4 away_player_X5 away_player_X6 away_player_X7 away_player_X8 away_player_X9 away_player_X10 away_player_X11 home_player_Y1 home_player_Y2 home_player_Y3 home_player_Y4 home_player_Y5 home_player_Y6 home_player_Y7 home_player_Y8 home_player_Y9 home_player_Y10 home_player_Y11 away_player_Y1 away_player_Y2 away_player_Y3 away_player_Y4 away_player_Y5 away_player_Y6 away_player_Y7 away_player_Y8 away_player_Y9 away_player_Y10 away_player_Y11 home_player_1 home_player_2 home_player_3 home_player_4 home_player_5 home_player_6 home_player_7 home_player_8 home_player_9 home_player_10 home_player_11 away_player_1 away_player_2 away_player_3 away_player_4 away_player_5 away_player_6 away_player_7 away_player_8 away_player_9 away_player_10 away_player_11 goal shoton shotoff foulcommit card cross corner possession B365H B365D B365A BWH BWD BWA IWH IWD IWA LBH LBD LBA PSH PSD PSA WHH WHD WHA SJH SJD SJA VCH VCD VCA GBH GBD GBA BSH BSD BSA\n"
     ]
    }
   ],
   "source": [
    "#View available columns in the match dataframe\n",
    "cols = match_df.columns\n",
    "print(*cols)"
   ]
  },
  {
   "cell_type": "code",
   "execution_count": 4,
   "metadata": {},
   "outputs": [
    {
     "data": {
      "text/plain": [
       "id                      0\n",
       "country_id              0\n",
       "league_id               0\n",
       "season                  0\n",
       "stage                   0\n",
       "date                    0\n",
       "match_api_id            0\n",
       "home_team_api_id        0\n",
       "away_team_api_id        0\n",
       "home_team_goal          0\n",
       "away_team_goal          0\n",
       "home_player_X1       1821\n",
       "home_player_X2       1821\n",
       "home_player_X3       1832\n",
       "home_player_X4       1832\n",
       "home_player_X5       1832\n",
       "home_player_X6       1832\n",
       "home_player_X7       1832\n",
       "home_player_X8       1832\n",
       "home_player_X9       1832\n",
       "home_player_X10      1832\n",
       "home_player_X11      1832\n",
       "away_player_X1       1832\n",
       "away_player_X2       1832\n",
       "away_player_X3       1832\n",
       "away_player_X4       1832\n",
       "away_player_X5       1832\n",
       "away_player_X6       1832\n",
       "away_player_X7       1832\n",
       "away_player_X8       1832\n",
       "                    ...  \n",
       "B365H                3387\n",
       "B365D                3387\n",
       "B365A                3387\n",
       "BWH                  3404\n",
       "BWD                  3404\n",
       "BWA                  3404\n",
       "IWH                  3459\n",
       "IWD                  3459\n",
       "IWA                  3459\n",
       "LBH                  3423\n",
       "LBD                  3423\n",
       "LBA                  3423\n",
       "PSH                 14811\n",
       "PSD                 14811\n",
       "PSA                 14811\n",
       "WHH                  3408\n",
       "WHD                  3408\n",
       "WHA                  3408\n",
       "SJH                  8882\n",
       "SJD                  8882\n",
       "SJA                  8882\n",
       "VCH                  3411\n",
       "VCD                  3411\n",
       "VCA                  3411\n",
       "GBH                 11817\n",
       "GBD                 11817\n",
       "GBA                 11817\n",
       "BSH                 11818\n",
       "BSD                 11818\n",
       "BSA                 11818\n",
       "Length: 115, dtype: int64"
      ]
     },
     "execution_count": 4,
     "metadata": {},
     "output_type": "execute_result"
    }
   ],
   "source": [
    "# check for null rows\n",
    "match_df.isnull().sum()"
   ]
  },
  {
   "cell_type": "code",
   "execution_count": 12,
   "metadata": {},
   "outputs": [],
   "source": [
    "def perc_miss(df):\n",
    "    '''Return sorted dataframe showing percentage of missing values in given data'''\n",
    "    percent_missing = df.isnull().sum() * 100 / len(df)\n",
    "    missing_value_df = pd.DataFrame({'column_name': df.columns,\n",
    "                                 'percent_missing': percent_missing})\n",
    "    \n",
    "    missing_value_df.sort_values('percent_missing',ascending= False, inplace=True)\n",
    "    \n",
    "    return missing_value_df"
   ]
  },
  {
   "cell_type": "code",
   "execution_count": 13,
   "metadata": {},
   "outputs": [
    {
     "data": {
      "text/html": [
       "<div>\n",
       "<style scoped>\n",
       "    .dataframe tbody tr th:only-of-type {\n",
       "        vertical-align: middle;\n",
       "    }\n",
       "\n",
       "    .dataframe tbody tr th {\n",
       "        vertical-align: top;\n",
       "    }\n",
       "\n",
       "    .dataframe thead th {\n",
       "        text-align: right;\n",
       "    }\n",
       "</style>\n",
       "<table border=\"1\" class=\"dataframe\">\n",
       "  <thead>\n",
       "    <tr style=\"text-align: right;\">\n",
       "      <th></th>\n",
       "      <th>column_name</th>\n",
       "      <th>percent_missing</th>\n",
       "    </tr>\n",
       "  </thead>\n",
       "  <tbody>\n",
       "    <tr>\n",
       "      <th>PSD</th>\n",
       "      <td>PSD</td>\n",
       "      <td>57.011432</td>\n",
       "    </tr>\n",
       "    <tr>\n",
       "      <th>PSA</th>\n",
       "      <td>PSA</td>\n",
       "      <td>57.011432</td>\n",
       "    </tr>\n",
       "    <tr>\n",
       "      <th>PSH</th>\n",
       "      <td>PSH</td>\n",
       "      <td>57.011432</td>\n",
       "    </tr>\n",
       "    <tr>\n",
       "      <th>BSA</th>\n",
       "      <td>BSA</td>\n",
       "      <td>45.490589</td>\n",
       "    </tr>\n",
       "    <tr>\n",
       "      <th>BSH</th>\n",
       "      <td>BSH</td>\n",
       "      <td>45.490589</td>\n",
       "    </tr>\n",
       "    <tr>\n",
       "      <th>BSD</th>\n",
       "      <td>BSD</td>\n",
       "      <td>45.490589</td>\n",
       "    </tr>\n",
       "    <tr>\n",
       "      <th>GBA</th>\n",
       "      <td>GBA</td>\n",
       "      <td>45.486739</td>\n",
       "    </tr>\n",
       "    <tr>\n",
       "      <th>GBD</th>\n",
       "      <td>GBD</td>\n",
       "      <td>45.486739</td>\n",
       "    </tr>\n",
       "    <tr>\n",
       "      <th>GBH</th>\n",
       "      <td>GBH</td>\n",
       "      <td>45.486739</td>\n",
       "    </tr>\n",
       "    <tr>\n",
       "      <th>shotoff</th>\n",
       "      <td>shotoff</td>\n",
       "      <td>45.275030</td>\n",
       "    </tr>\n",
       "    <tr>\n",
       "      <th>goal</th>\n",
       "      <td>goal</td>\n",
       "      <td>45.275030</td>\n",
       "    </tr>\n",
       "    <tr>\n",
       "      <th>shoton</th>\n",
       "      <td>shoton</td>\n",
       "      <td>45.275030</td>\n",
       "    </tr>\n",
       "    <tr>\n",
       "      <th>possession</th>\n",
       "      <td>possession</td>\n",
       "      <td>45.275030</td>\n",
       "    </tr>\n",
       "    <tr>\n",
       "      <th>corner</th>\n",
       "      <td>corner</td>\n",
       "      <td>45.275030</td>\n",
       "    </tr>\n",
       "    <tr>\n",
       "      <th>cross</th>\n",
       "      <td>cross</td>\n",
       "      <td>45.275030</td>\n",
       "    </tr>\n",
       "    <tr>\n",
       "      <th>card</th>\n",
       "      <td>card</td>\n",
       "      <td>45.275030</td>\n",
       "    </tr>\n",
       "    <tr>\n",
       "      <th>foulcommit</th>\n",
       "      <td>foulcommit</td>\n",
       "      <td>45.275030</td>\n",
       "    </tr>\n",
       "    <tr>\n",
       "      <th>SJH</th>\n",
       "      <td>SJH</td>\n",
       "      <td>34.189153</td>\n",
       "    </tr>\n",
       "    <tr>\n",
       "      <th>SJD</th>\n",
       "      <td>SJD</td>\n",
       "      <td>34.189153</td>\n",
       "    </tr>\n",
       "    <tr>\n",
       "      <th>SJA</th>\n",
       "      <td>SJA</td>\n",
       "      <td>34.189153</td>\n",
       "    </tr>\n",
       "    <tr>\n",
       "      <th>IWD</th>\n",
       "      <td>IWD</td>\n",
       "      <td>13.314600</td>\n",
       "    </tr>\n",
       "    <tr>\n",
       "      <th>IWA</th>\n",
       "      <td>IWA</td>\n",
       "      <td>13.314600</td>\n",
       "    </tr>\n",
       "    <tr>\n",
       "      <th>IWH</th>\n",
       "      <td>IWH</td>\n",
       "      <td>13.314600</td>\n",
       "    </tr>\n",
       "    <tr>\n",
       "      <th>LBH</th>\n",
       "      <td>LBH</td>\n",
       "      <td>13.176027</td>\n",
       "    </tr>\n",
       "    <tr>\n",
       "      <th>LBD</th>\n",
       "      <td>LBD</td>\n",
       "      <td>13.176027</td>\n",
       "    </tr>\n",
       "    <tr>\n",
       "      <th>LBA</th>\n",
       "      <td>LBA</td>\n",
       "      <td>13.176027</td>\n",
       "    </tr>\n",
       "    <tr>\n",
       "      <th>VCA</th>\n",
       "      <td>VCA</td>\n",
       "      <td>13.129836</td>\n",
       "    </tr>\n",
       "    <tr>\n",
       "      <th>VCD</th>\n",
       "      <td>VCD</td>\n",
       "      <td>13.129836</td>\n",
       "    </tr>\n",
       "    <tr>\n",
       "      <th>VCH</th>\n",
       "      <td>VCH</td>\n",
       "      <td>13.129836</td>\n",
       "    </tr>\n",
       "    <tr>\n",
       "      <th>WHA</th>\n",
       "      <td>WHA</td>\n",
       "      <td>13.118288</td>\n",
       "    </tr>\n",
       "    <tr>\n",
       "      <th>...</th>\n",
       "      <td>...</td>\n",
       "      <td>...</td>\n",
       "    </tr>\n",
       "    <tr>\n",
       "      <th>home_player_10</th>\n",
       "      <td>home_player_10</td>\n",
       "      <td>5.527541</td>\n",
       "    </tr>\n",
       "    <tr>\n",
       "      <th>away_player_8</th>\n",
       "      <td>away_player_8</td>\n",
       "      <td>5.161862</td>\n",
       "    </tr>\n",
       "    <tr>\n",
       "      <th>away_player_5</th>\n",
       "      <td>away_player_5</td>\n",
       "      <td>5.138766</td>\n",
       "    </tr>\n",
       "    <tr>\n",
       "      <th>away_player_9</th>\n",
       "      <td>away_player_9</td>\n",
       "      <td>5.111821</td>\n",
       "    </tr>\n",
       "    <tr>\n",
       "      <th>home_player_6</th>\n",
       "      <td>home_player_6</td>\n",
       "      <td>5.100273</td>\n",
       "    </tr>\n",
       "    <tr>\n",
       "      <th>home_player_4</th>\n",
       "      <td>home_player_4</td>\n",
       "      <td>5.092575</td>\n",
       "    </tr>\n",
       "    <tr>\n",
       "      <th>away_player_4</th>\n",
       "      <td>away_player_4</td>\n",
       "      <td>5.084876</td>\n",
       "    </tr>\n",
       "    <tr>\n",
       "      <th>home_player_5</th>\n",
       "      <td>home_player_5</td>\n",
       "      <td>5.065630</td>\n",
       "    </tr>\n",
       "    <tr>\n",
       "      <th>home_player_2</th>\n",
       "      <td>home_player_2</td>\n",
       "      <td>5.061781</td>\n",
       "    </tr>\n",
       "    <tr>\n",
       "      <th>away_player_6</th>\n",
       "      <td>away_player_6</td>\n",
       "      <td>5.054082</td>\n",
       "    </tr>\n",
       "    <tr>\n",
       "      <th>home_player_8</th>\n",
       "      <td>home_player_8</td>\n",
       "      <td>5.038685</td>\n",
       "    </tr>\n",
       "    <tr>\n",
       "      <th>away_player_3</th>\n",
       "      <td>away_player_3</td>\n",
       "      <td>4.977097</td>\n",
       "    </tr>\n",
       "    <tr>\n",
       "      <th>home_player_3</th>\n",
       "      <td>home_player_3</td>\n",
       "      <td>4.930906</td>\n",
       "    </tr>\n",
       "    <tr>\n",
       "      <th>away_player_2</th>\n",
       "      <td>away_player_2</td>\n",
       "      <td>4.919358</td>\n",
       "    </tr>\n",
       "    <tr>\n",
       "      <th>home_player_9</th>\n",
       "      <td>home_player_9</td>\n",
       "      <td>4.900112</td>\n",
       "    </tr>\n",
       "    <tr>\n",
       "      <th>away_player_7</th>\n",
       "      <td>away_player_7</td>\n",
       "      <td>4.753840</td>\n",
       "    </tr>\n",
       "    <tr>\n",
       "      <th>away_player_1</th>\n",
       "      <td>away_player_1</td>\n",
       "      <td>4.749990</td>\n",
       "    </tr>\n",
       "    <tr>\n",
       "      <th>home_player_7</th>\n",
       "      <td>home_player_7</td>\n",
       "      <td>4.723046</td>\n",
       "    </tr>\n",
       "    <tr>\n",
       "      <th>home_player_1</th>\n",
       "      <td>home_player_1</td>\n",
       "      <td>4.711498</td>\n",
       "    </tr>\n",
       "    <tr>\n",
       "      <th>match_api_id</th>\n",
       "      <td>match_api_id</td>\n",
       "      <td>0.000000</td>\n",
       "    </tr>\n",
       "    <tr>\n",
       "      <th>league_id</th>\n",
       "      <td>league_id</td>\n",
       "      <td>0.000000</td>\n",
       "    </tr>\n",
       "    <tr>\n",
       "      <th>season</th>\n",
       "      <td>season</td>\n",
       "      <td>0.000000</td>\n",
       "    </tr>\n",
       "    <tr>\n",
       "      <th>stage</th>\n",
       "      <td>stage</td>\n",
       "      <td>0.000000</td>\n",
       "    </tr>\n",
       "    <tr>\n",
       "      <th>date</th>\n",
       "      <td>date</td>\n",
       "      <td>0.000000</td>\n",
       "    </tr>\n",
       "    <tr>\n",
       "      <th>home_team_goal</th>\n",
       "      <td>home_team_goal</td>\n",
       "      <td>0.000000</td>\n",
       "    </tr>\n",
       "    <tr>\n",
       "      <th>home_team_api_id</th>\n",
       "      <td>home_team_api_id</td>\n",
       "      <td>0.000000</td>\n",
       "    </tr>\n",
       "    <tr>\n",
       "      <th>away_team_api_id</th>\n",
       "      <td>away_team_api_id</td>\n",
       "      <td>0.000000</td>\n",
       "    </tr>\n",
       "    <tr>\n",
       "      <th>away_team_goal</th>\n",
       "      <td>away_team_goal</td>\n",
       "      <td>0.000000</td>\n",
       "    </tr>\n",
       "    <tr>\n",
       "      <th>country_id</th>\n",
       "      <td>country_id</td>\n",
       "      <td>0.000000</td>\n",
       "    </tr>\n",
       "    <tr>\n",
       "      <th>id</th>\n",
       "      <td>id</td>\n",
       "      <td>0.000000</td>\n",
       "    </tr>\n",
       "  </tbody>\n",
       "</table>\n",
       "<p>115 rows × 2 columns</p>\n",
       "</div>"
      ],
      "text/plain": [
       "                       column_name  percent_missing\n",
       "PSD                            PSD        57.011432\n",
       "PSA                            PSA        57.011432\n",
       "PSH                            PSH        57.011432\n",
       "BSA                            BSA        45.490589\n",
       "BSH                            BSH        45.490589\n",
       "BSD                            BSD        45.490589\n",
       "GBA                            GBA        45.486739\n",
       "GBD                            GBD        45.486739\n",
       "GBH                            GBH        45.486739\n",
       "shotoff                    shotoff        45.275030\n",
       "goal                          goal        45.275030\n",
       "shoton                      shoton        45.275030\n",
       "possession              possession        45.275030\n",
       "corner                      corner        45.275030\n",
       "cross                        cross        45.275030\n",
       "card                          card        45.275030\n",
       "foulcommit              foulcommit        45.275030\n",
       "SJH                            SJH        34.189153\n",
       "SJD                            SJD        34.189153\n",
       "SJA                            SJA        34.189153\n",
       "IWD                            IWD        13.314600\n",
       "IWA                            IWA        13.314600\n",
       "IWH                            IWH        13.314600\n",
       "LBH                            LBH        13.176027\n",
       "LBD                            LBD        13.176027\n",
       "LBA                            LBA        13.176027\n",
       "VCA                            VCA        13.129836\n",
       "VCD                            VCD        13.129836\n",
       "VCH                            VCH        13.129836\n",
       "WHA                            WHA        13.118288\n",
       "...                            ...              ...\n",
       "home_player_10      home_player_10         5.527541\n",
       "away_player_8        away_player_8         5.161862\n",
       "away_player_5        away_player_5         5.138766\n",
       "away_player_9        away_player_9         5.111821\n",
       "home_player_6        home_player_6         5.100273\n",
       "home_player_4        home_player_4         5.092575\n",
       "away_player_4        away_player_4         5.084876\n",
       "home_player_5        home_player_5         5.065630\n",
       "home_player_2        home_player_2         5.061781\n",
       "away_player_6        away_player_6         5.054082\n",
       "home_player_8        home_player_8         5.038685\n",
       "away_player_3        away_player_3         4.977097\n",
       "home_player_3        home_player_3         4.930906\n",
       "away_player_2        away_player_2         4.919358\n",
       "home_player_9        home_player_9         4.900112\n",
       "away_player_7        away_player_7         4.753840\n",
       "away_player_1        away_player_1         4.749990\n",
       "home_player_7        home_player_7         4.723046\n",
       "home_player_1        home_player_1         4.711498\n",
       "match_api_id          match_api_id         0.000000\n",
       "league_id                league_id         0.000000\n",
       "season                      season         0.000000\n",
       "stage                        stage         0.000000\n",
       "date                          date         0.000000\n",
       "home_team_goal      home_team_goal         0.000000\n",
       "home_team_api_id  home_team_api_id         0.000000\n",
       "away_team_api_id  away_team_api_id         0.000000\n",
       "away_team_goal      away_team_goal         0.000000\n",
       "country_id              country_id         0.000000\n",
       "id                              id         0.000000\n",
       "\n",
       "[115 rows x 2 columns]"
      ]
     },
     "execution_count": 13,
     "metadata": {},
     "output_type": "execute_result"
    }
   ],
   "source": [
    "# Percentage of missing rows in match data\n",
    "perc_miss(match_df)"
   ]
  },
  {
   "cell_type": "code",
   "execution_count": 14,
   "metadata": {},
   "outputs": [
    {
     "data": {
      "text/plain": [
       "0"
      ]
     },
     "execution_count": 14,
     "metadata": {},
     "output_type": "execute_result"
    }
   ],
   "source": [
    "# count of duplicate\n",
    "match_df.duplicated().sum()"
   ]
  },
  {
   "cell_type": "code",
   "execution_count": 15,
   "metadata": {},
   "outputs": [
    {
     "data": {
      "text/plain": [
       "array([ 1, 10, 11, 12, 13, 14, 15, 16, 17, 18, 19,  2, 20, 21, 22, 23, 24,\n",
       "       25, 26, 27, 28, 29,  3, 30, 31, 32, 33, 34,  4,  5,  6,  7,  8,  9,\n",
       "       35, 36, 37, 38])"
      ]
     },
     "execution_count": 15,
     "metadata": {},
     "output_type": "execute_result"
    }
   ],
   "source": [
    "# count of match weeks\n",
    "match_df['stage'].unique()"
   ]
  },
  {
   "cell_type": "markdown",
   "metadata": {},
   "source": [
    "**Players**"
   ]
  },
  {
   "cell_type": "code",
   "execution_count": 16,
   "metadata": {},
   "outputs": [
    {
     "data": {
      "text/html": [
       "<div>\n",
       "<style scoped>\n",
       "    .dataframe tbody tr th:only-of-type {\n",
       "        vertical-align: middle;\n",
       "    }\n",
       "\n",
       "    .dataframe tbody tr th {\n",
       "        vertical-align: top;\n",
       "    }\n",
       "\n",
       "    .dataframe thead th {\n",
       "        text-align: right;\n",
       "    }\n",
       "</style>\n",
       "<table border=\"1\" class=\"dataframe\">\n",
       "  <thead>\n",
       "    <tr style=\"text-align: right;\">\n",
       "      <th></th>\n",
       "      <th>id</th>\n",
       "      <th>player_api_id</th>\n",
       "      <th>player_name</th>\n",
       "      <th>player_fifa_api_id</th>\n",
       "      <th>birthday</th>\n",
       "      <th>height</th>\n",
       "      <th>weight</th>\n",
       "    </tr>\n",
       "  </thead>\n",
       "  <tbody>\n",
       "    <tr>\n",
       "      <th>0</th>\n",
       "      <td>1</td>\n",
       "      <td>505942</td>\n",
       "      <td>Aaron Appindangoye</td>\n",
       "      <td>218353</td>\n",
       "      <td>1992-02-29 00:00:00</td>\n",
       "      <td>182.88</td>\n",
       "      <td>187</td>\n",
       "    </tr>\n",
       "    <tr>\n",
       "      <th>1</th>\n",
       "      <td>2</td>\n",
       "      <td>155782</td>\n",
       "      <td>Aaron Cresswell</td>\n",
       "      <td>189615</td>\n",
       "      <td>1989-12-15 00:00:00</td>\n",
       "      <td>170.18</td>\n",
       "      <td>146</td>\n",
       "    </tr>\n",
       "    <tr>\n",
       "      <th>2</th>\n",
       "      <td>3</td>\n",
       "      <td>162549</td>\n",
       "      <td>Aaron Doran</td>\n",
       "      <td>186170</td>\n",
       "      <td>1991-05-13 00:00:00</td>\n",
       "      <td>170.18</td>\n",
       "      <td>163</td>\n",
       "    </tr>\n",
       "    <tr>\n",
       "      <th>3</th>\n",
       "      <td>4</td>\n",
       "      <td>30572</td>\n",
       "      <td>Aaron Galindo</td>\n",
       "      <td>140161</td>\n",
       "      <td>1982-05-08 00:00:00</td>\n",
       "      <td>182.88</td>\n",
       "      <td>198</td>\n",
       "    </tr>\n",
       "    <tr>\n",
       "      <th>4</th>\n",
       "      <td>5</td>\n",
       "      <td>23780</td>\n",
       "      <td>Aaron Hughes</td>\n",
       "      <td>17725</td>\n",
       "      <td>1979-11-08 00:00:00</td>\n",
       "      <td>182.88</td>\n",
       "      <td>154</td>\n",
       "    </tr>\n",
       "  </tbody>\n",
       "</table>\n",
       "</div>"
      ],
      "text/plain": [
       "   id  player_api_id         player_name  player_fifa_api_id  \\\n",
       "0   1         505942  Aaron Appindangoye              218353   \n",
       "1   2         155782     Aaron Cresswell              189615   \n",
       "2   3         162549         Aaron Doran              186170   \n",
       "3   4          30572       Aaron Galindo              140161   \n",
       "4   5          23780        Aaron Hughes               17725   \n",
       "\n",
       "              birthday  height  weight  \n",
       "0  1992-02-29 00:00:00  182.88     187  \n",
       "1  1989-12-15 00:00:00  170.18     146  \n",
       "2  1991-05-13 00:00:00  170.18     163  \n",
       "3  1982-05-08 00:00:00  182.88     198  \n",
       "4  1979-11-08 00:00:00  182.88     154  "
      ]
     },
     "execution_count": 16,
     "metadata": {},
     "output_type": "execute_result"
    }
   ],
   "source": [
    "# view first rows\n",
    "player_df.head()"
   ]
  },
  {
   "cell_type": "code",
   "execution_count": 17,
   "metadata": {},
   "outputs": [
    {
     "name": "stdout",
     "output_type": "stream",
     "text": [
      "<class 'pandas.core.frame.DataFrame'>\n",
      "RangeIndex: 11060 entries, 0 to 11059\n",
      "Data columns (total 7 columns):\n",
      "id                    11060 non-null int64\n",
      "player_api_id         11060 non-null int64\n",
      "player_name           11060 non-null object\n",
      "player_fifa_api_id    11060 non-null int64\n",
      "birthday              11060 non-null object\n",
      "height                11060 non-null float64\n",
      "weight                11060 non-null int64\n",
      "dtypes: float64(1), int64(4), object(2)\n",
      "memory usage: 604.9+ KB\n"
     ]
    }
   ],
   "source": [
    "# dataframe info\n",
    "player_df.info()"
   ]
  },
  {
   "cell_type": "code",
   "execution_count": 18,
   "metadata": {},
   "outputs": [
    {
     "data": {
      "text/plain": [
       "0"
      ]
     },
     "execution_count": 18,
     "metadata": {},
     "output_type": "execute_result"
    }
   ],
   "source": [
    "# count of duplicates\n",
    "player_df.duplicated().sum()"
   ]
  },
  {
   "cell_type": "markdown",
   "metadata": {},
   "source": [
    "**Player Attributes**"
   ]
  },
  {
   "cell_type": "code",
   "execution_count": 19,
   "metadata": {
    "scrolled": false
   },
   "outputs": [
    {
     "data": {
      "text/html": [
       "<div>\n",
       "<style scoped>\n",
       "    .dataframe tbody tr th:only-of-type {\n",
       "        vertical-align: middle;\n",
       "    }\n",
       "\n",
       "    .dataframe tbody tr th {\n",
       "        vertical-align: top;\n",
       "    }\n",
       "\n",
       "    .dataframe thead th {\n",
       "        text-align: right;\n",
       "    }\n",
       "</style>\n",
       "<table border=\"1\" class=\"dataframe\">\n",
       "  <thead>\n",
       "    <tr style=\"text-align: right;\">\n",
       "      <th></th>\n",
       "      <th>id</th>\n",
       "      <th>player_fifa_api_id</th>\n",
       "      <th>player_api_id</th>\n",
       "      <th>date</th>\n",
       "      <th>overall_rating</th>\n",
       "      <th>potential</th>\n",
       "      <th>preferred_foot</th>\n",
       "      <th>attacking_work_rate</th>\n",
       "      <th>defensive_work_rate</th>\n",
       "      <th>crossing</th>\n",
       "      <th>...</th>\n",
       "      <th>vision</th>\n",
       "      <th>penalties</th>\n",
       "      <th>marking</th>\n",
       "      <th>standing_tackle</th>\n",
       "      <th>sliding_tackle</th>\n",
       "      <th>gk_diving</th>\n",
       "      <th>gk_handling</th>\n",
       "      <th>gk_kicking</th>\n",
       "      <th>gk_positioning</th>\n",
       "      <th>gk_reflexes</th>\n",
       "    </tr>\n",
       "  </thead>\n",
       "  <tbody>\n",
       "    <tr>\n",
       "      <th>0</th>\n",
       "      <td>1</td>\n",
       "      <td>218353</td>\n",
       "      <td>505942</td>\n",
       "      <td>2016-02-18 00:00:00</td>\n",
       "      <td>67.0</td>\n",
       "      <td>71.0</td>\n",
       "      <td>right</td>\n",
       "      <td>medium</td>\n",
       "      <td>medium</td>\n",
       "      <td>49.0</td>\n",
       "      <td>...</td>\n",
       "      <td>54.0</td>\n",
       "      <td>48.0</td>\n",
       "      <td>65.0</td>\n",
       "      <td>69.0</td>\n",
       "      <td>69.0</td>\n",
       "      <td>6.0</td>\n",
       "      <td>11.0</td>\n",
       "      <td>10.0</td>\n",
       "      <td>8.0</td>\n",
       "      <td>8.0</td>\n",
       "    </tr>\n",
       "    <tr>\n",
       "      <th>1</th>\n",
       "      <td>2</td>\n",
       "      <td>218353</td>\n",
       "      <td>505942</td>\n",
       "      <td>2015-11-19 00:00:00</td>\n",
       "      <td>67.0</td>\n",
       "      <td>71.0</td>\n",
       "      <td>right</td>\n",
       "      <td>medium</td>\n",
       "      <td>medium</td>\n",
       "      <td>49.0</td>\n",
       "      <td>...</td>\n",
       "      <td>54.0</td>\n",
       "      <td>48.0</td>\n",
       "      <td>65.0</td>\n",
       "      <td>69.0</td>\n",
       "      <td>69.0</td>\n",
       "      <td>6.0</td>\n",
       "      <td>11.0</td>\n",
       "      <td>10.0</td>\n",
       "      <td>8.0</td>\n",
       "      <td>8.0</td>\n",
       "    </tr>\n",
       "    <tr>\n",
       "      <th>2</th>\n",
       "      <td>3</td>\n",
       "      <td>218353</td>\n",
       "      <td>505942</td>\n",
       "      <td>2015-09-21 00:00:00</td>\n",
       "      <td>62.0</td>\n",
       "      <td>66.0</td>\n",
       "      <td>right</td>\n",
       "      <td>medium</td>\n",
       "      <td>medium</td>\n",
       "      <td>49.0</td>\n",
       "      <td>...</td>\n",
       "      <td>54.0</td>\n",
       "      <td>48.0</td>\n",
       "      <td>65.0</td>\n",
       "      <td>66.0</td>\n",
       "      <td>69.0</td>\n",
       "      <td>6.0</td>\n",
       "      <td>11.0</td>\n",
       "      <td>10.0</td>\n",
       "      <td>8.0</td>\n",
       "      <td>8.0</td>\n",
       "    </tr>\n",
       "  </tbody>\n",
       "</table>\n",
       "<p>3 rows × 42 columns</p>\n",
       "</div>"
      ],
      "text/plain": [
       "   id  player_fifa_api_id  player_api_id                 date  overall_rating  \\\n",
       "0   1              218353         505942  2016-02-18 00:00:00            67.0   \n",
       "1   2              218353         505942  2015-11-19 00:00:00            67.0   \n",
       "2   3              218353         505942  2015-09-21 00:00:00            62.0   \n",
       "\n",
       "   potential preferred_foot attacking_work_rate defensive_work_rate  crossing  \\\n",
       "0       71.0          right              medium              medium      49.0   \n",
       "1       71.0          right              medium              medium      49.0   \n",
       "2       66.0          right              medium              medium      49.0   \n",
       "\n",
       "      ...       vision  penalties  marking  standing_tackle  sliding_tackle  \\\n",
       "0     ...         54.0       48.0     65.0             69.0            69.0   \n",
       "1     ...         54.0       48.0     65.0             69.0            69.0   \n",
       "2     ...         54.0       48.0     65.0             66.0            69.0   \n",
       "\n",
       "   gk_diving  gk_handling  gk_kicking  gk_positioning  gk_reflexes  \n",
       "0        6.0         11.0        10.0             8.0          8.0  \n",
       "1        6.0         11.0        10.0             8.0          8.0  \n",
       "2        6.0         11.0        10.0             8.0          8.0  \n",
       "\n",
       "[3 rows x 42 columns]"
      ]
     },
     "execution_count": 19,
     "metadata": {},
     "output_type": "execute_result"
    }
   ],
   "source": [
    "# view first rows\n",
    "player_att_df.head(3)"
   ]
  },
  {
   "cell_type": "code",
   "execution_count": 20,
   "metadata": {},
   "outputs": [
    {
     "name": "stdout",
     "output_type": "stream",
     "text": [
      "<class 'pandas.core.frame.DataFrame'>\n",
      "RangeIndex: 183978 entries, 0 to 183977\n",
      "Data columns (total 42 columns):\n",
      "id                     183978 non-null int64\n",
      "player_fifa_api_id     183978 non-null int64\n",
      "player_api_id          183978 non-null int64\n",
      "date                   183978 non-null object\n",
      "overall_rating         183142 non-null float64\n",
      "potential              183142 non-null float64\n",
      "preferred_foot         183142 non-null object\n",
      "attacking_work_rate    180748 non-null object\n",
      "defensive_work_rate    183142 non-null object\n",
      "crossing               183142 non-null float64\n",
      "finishing              183142 non-null float64\n",
      "heading_accuracy       183142 non-null float64\n",
      "short_passing          183142 non-null float64\n",
      "volleys                181265 non-null float64\n",
      "dribbling              183142 non-null float64\n",
      "curve                  181265 non-null float64\n",
      "free_kick_accuracy     183142 non-null float64\n",
      "long_passing           183142 non-null float64\n",
      "ball_control           183142 non-null float64\n",
      "acceleration           183142 non-null float64\n",
      "sprint_speed           183142 non-null float64\n",
      "agility                181265 non-null float64\n",
      "reactions              183142 non-null float64\n",
      "balance                181265 non-null float64\n",
      "shot_power             183142 non-null float64\n",
      "jumping                181265 non-null float64\n",
      "stamina                183142 non-null float64\n",
      "strength               183142 non-null float64\n",
      "long_shots             183142 non-null float64\n",
      "aggression             183142 non-null float64\n",
      "interceptions          183142 non-null float64\n",
      "positioning            183142 non-null float64\n",
      "vision                 181265 non-null float64\n",
      "penalties              183142 non-null float64\n",
      "marking                183142 non-null float64\n",
      "standing_tackle        183142 non-null float64\n",
      "sliding_tackle         181265 non-null float64\n",
      "gk_diving              183142 non-null float64\n",
      "gk_handling            183142 non-null float64\n",
      "gk_kicking             183142 non-null float64\n",
      "gk_positioning         183142 non-null float64\n",
      "gk_reflexes            183142 non-null float64\n",
      "dtypes: float64(35), int64(3), object(4)\n",
      "memory usage: 59.0+ MB\n"
     ]
    }
   ],
   "source": [
    "# view dataframe info\n",
    "player_att_df.info()"
   ]
  },
  {
   "cell_type": "code",
   "execution_count": 21,
   "metadata": {},
   "outputs": [
    {
     "data": {
      "text/plain": [
       "0"
      ]
     },
     "execution_count": 21,
     "metadata": {},
     "output_type": "execute_result"
    }
   ],
   "source": [
    "# count duplicate rows\n",
    "player_att_df.duplicated().sum()"
   ]
  },
  {
   "cell_type": "markdown",
   "metadata": {},
   "source": [
    "**Country**"
   ]
  },
  {
   "cell_type": "code",
   "execution_count": 22,
   "metadata": {},
   "outputs": [
    {
     "data": {
      "text/html": [
       "<div>\n",
       "<style scoped>\n",
       "    .dataframe tbody tr th:only-of-type {\n",
       "        vertical-align: middle;\n",
       "    }\n",
       "\n",
       "    .dataframe tbody tr th {\n",
       "        vertical-align: top;\n",
       "    }\n",
       "\n",
       "    .dataframe thead th {\n",
       "        text-align: right;\n",
       "    }\n",
       "</style>\n",
       "<table border=\"1\" class=\"dataframe\">\n",
       "  <thead>\n",
       "    <tr style=\"text-align: right;\">\n",
       "      <th></th>\n",
       "      <th>id</th>\n",
       "      <th>name</th>\n",
       "    </tr>\n",
       "  </thead>\n",
       "  <tbody>\n",
       "    <tr>\n",
       "      <th>0</th>\n",
       "      <td>1</td>\n",
       "      <td>Belgium</td>\n",
       "    </tr>\n",
       "    <tr>\n",
       "      <th>1</th>\n",
       "      <td>1729</td>\n",
       "      <td>England</td>\n",
       "    </tr>\n",
       "    <tr>\n",
       "      <th>2</th>\n",
       "      <td>4769</td>\n",
       "      <td>France</td>\n",
       "    </tr>\n",
       "  </tbody>\n",
       "</table>\n",
       "</div>"
      ],
      "text/plain": [
       "     id     name\n",
       "0     1  Belgium\n",
       "1  1729  England\n",
       "2  4769   France"
      ]
     },
     "execution_count": 22,
     "metadata": {},
     "output_type": "execute_result"
    }
   ],
   "source": [
    "# view first rows\n",
    "country_df.head(3)"
   ]
  },
  {
   "cell_type": "code",
   "execution_count": 23,
   "metadata": {},
   "outputs": [
    {
     "name": "stdout",
     "output_type": "stream",
     "text": [
      "<class 'pandas.core.frame.DataFrame'>\n",
      "RangeIndex: 11 entries, 0 to 10\n",
      "Data columns (total 2 columns):\n",
      "id      11 non-null int64\n",
      "name    11 non-null object\n",
      "dtypes: int64(1), object(1)\n",
      "memory usage: 256.0+ bytes\n"
     ]
    }
   ],
   "source": [
    "# view dataframe info\n",
    "country_df.info()"
   ]
  },
  {
   "cell_type": "code",
   "execution_count": 24,
   "metadata": {},
   "outputs": [
    {
     "data": {
      "text/plain": [
       "0"
      ]
     },
     "execution_count": 24,
     "metadata": {},
     "output_type": "execute_result"
    }
   ],
   "source": [
    "# count duplicate rows\n",
    "country_df.duplicated().sum()"
   ]
  },
  {
   "cell_type": "markdown",
   "metadata": {},
   "source": [
    "**Team attributes**"
   ]
  },
  {
   "cell_type": "code",
   "execution_count": 25,
   "metadata": {},
   "outputs": [
    {
     "data": {
      "text/html": [
       "<div>\n",
       "<style scoped>\n",
       "    .dataframe tbody tr th:only-of-type {\n",
       "        vertical-align: middle;\n",
       "    }\n",
       "\n",
       "    .dataframe tbody tr th {\n",
       "        vertical-align: top;\n",
       "    }\n",
       "\n",
       "    .dataframe thead th {\n",
       "        text-align: right;\n",
       "    }\n",
       "</style>\n",
       "<table border=\"1\" class=\"dataframe\">\n",
       "  <thead>\n",
       "    <tr style=\"text-align: right;\">\n",
       "      <th></th>\n",
       "      <th>id</th>\n",
       "      <th>team_fifa_api_id</th>\n",
       "      <th>team_api_id</th>\n",
       "      <th>date</th>\n",
       "      <th>buildUpPlaySpeed</th>\n",
       "      <th>buildUpPlaySpeedClass</th>\n",
       "      <th>buildUpPlayDribbling</th>\n",
       "      <th>buildUpPlayDribblingClass</th>\n",
       "      <th>buildUpPlayPassing</th>\n",
       "      <th>buildUpPlayPassingClass</th>\n",
       "      <th>...</th>\n",
       "      <th>chanceCreationShooting</th>\n",
       "      <th>chanceCreationShootingClass</th>\n",
       "      <th>chanceCreationPositioningClass</th>\n",
       "      <th>defencePressure</th>\n",
       "      <th>defencePressureClass</th>\n",
       "      <th>defenceAggression</th>\n",
       "      <th>defenceAggressionClass</th>\n",
       "      <th>defenceTeamWidth</th>\n",
       "      <th>defenceTeamWidthClass</th>\n",
       "      <th>defenceDefenderLineClass</th>\n",
       "    </tr>\n",
       "  </thead>\n",
       "  <tbody>\n",
       "    <tr>\n",
       "      <th>0</th>\n",
       "      <td>1</td>\n",
       "      <td>434</td>\n",
       "      <td>9930</td>\n",
       "      <td>2010-02-22 00:00:00</td>\n",
       "      <td>60</td>\n",
       "      <td>Balanced</td>\n",
       "      <td>NaN</td>\n",
       "      <td>Little</td>\n",
       "      <td>50</td>\n",
       "      <td>Mixed</td>\n",
       "      <td>...</td>\n",
       "      <td>55</td>\n",
       "      <td>Normal</td>\n",
       "      <td>Organised</td>\n",
       "      <td>50</td>\n",
       "      <td>Medium</td>\n",
       "      <td>55</td>\n",
       "      <td>Press</td>\n",
       "      <td>45</td>\n",
       "      <td>Normal</td>\n",
       "      <td>Cover</td>\n",
       "    </tr>\n",
       "    <tr>\n",
       "      <th>1</th>\n",
       "      <td>2</td>\n",
       "      <td>434</td>\n",
       "      <td>9930</td>\n",
       "      <td>2014-09-19 00:00:00</td>\n",
       "      <td>52</td>\n",
       "      <td>Balanced</td>\n",
       "      <td>48.0</td>\n",
       "      <td>Normal</td>\n",
       "      <td>56</td>\n",
       "      <td>Mixed</td>\n",
       "      <td>...</td>\n",
       "      <td>64</td>\n",
       "      <td>Normal</td>\n",
       "      <td>Organised</td>\n",
       "      <td>47</td>\n",
       "      <td>Medium</td>\n",
       "      <td>44</td>\n",
       "      <td>Press</td>\n",
       "      <td>54</td>\n",
       "      <td>Normal</td>\n",
       "      <td>Cover</td>\n",
       "    </tr>\n",
       "    <tr>\n",
       "      <th>2</th>\n",
       "      <td>3</td>\n",
       "      <td>434</td>\n",
       "      <td>9930</td>\n",
       "      <td>2015-09-10 00:00:00</td>\n",
       "      <td>47</td>\n",
       "      <td>Balanced</td>\n",
       "      <td>41.0</td>\n",
       "      <td>Normal</td>\n",
       "      <td>54</td>\n",
       "      <td>Mixed</td>\n",
       "      <td>...</td>\n",
       "      <td>64</td>\n",
       "      <td>Normal</td>\n",
       "      <td>Organised</td>\n",
       "      <td>47</td>\n",
       "      <td>Medium</td>\n",
       "      <td>44</td>\n",
       "      <td>Press</td>\n",
       "      <td>54</td>\n",
       "      <td>Normal</td>\n",
       "      <td>Cover</td>\n",
       "    </tr>\n",
       "  </tbody>\n",
       "</table>\n",
       "<p>3 rows × 25 columns</p>\n",
       "</div>"
      ],
      "text/plain": [
       "   id  team_fifa_api_id  team_api_id                 date  buildUpPlaySpeed  \\\n",
       "0   1               434         9930  2010-02-22 00:00:00                60   \n",
       "1   2               434         9930  2014-09-19 00:00:00                52   \n",
       "2   3               434         9930  2015-09-10 00:00:00                47   \n",
       "\n",
       "  buildUpPlaySpeedClass  buildUpPlayDribbling buildUpPlayDribblingClass  \\\n",
       "0              Balanced                   NaN                    Little   \n",
       "1              Balanced                  48.0                    Normal   \n",
       "2              Balanced                  41.0                    Normal   \n",
       "\n",
       "   buildUpPlayPassing buildUpPlayPassingClass           ...             \\\n",
       "0                  50                   Mixed           ...              \n",
       "1                  56                   Mixed           ...              \n",
       "2                  54                   Mixed           ...              \n",
       "\n",
       "  chanceCreationShooting  chanceCreationShootingClass  \\\n",
       "0                     55                       Normal   \n",
       "1                     64                       Normal   \n",
       "2                     64                       Normal   \n",
       "\n",
       "  chanceCreationPositioningClass  defencePressure defencePressureClass  \\\n",
       "0                      Organised               50               Medium   \n",
       "1                      Organised               47               Medium   \n",
       "2                      Organised               47               Medium   \n",
       "\n",
       "   defenceAggression defenceAggressionClass defenceTeamWidth  \\\n",
       "0                 55                  Press               45   \n",
       "1                 44                  Press               54   \n",
       "2                 44                  Press               54   \n",
       "\n",
       "   defenceTeamWidthClass defenceDefenderLineClass  \n",
       "0                 Normal                    Cover  \n",
       "1                 Normal                    Cover  \n",
       "2                 Normal                    Cover  \n",
       "\n",
       "[3 rows x 25 columns]"
      ]
     },
     "execution_count": 25,
     "metadata": {},
     "output_type": "execute_result"
    }
   ],
   "source": [
    "# view first rows\n",
    "team_att_df.head(3)"
   ]
  },
  {
   "cell_type": "code",
   "execution_count": 26,
   "metadata": {},
   "outputs": [
    {
     "name": "stdout",
     "output_type": "stream",
     "text": [
      "<class 'pandas.core.frame.DataFrame'>\n",
      "RangeIndex: 1458 entries, 0 to 1457\n",
      "Data columns (total 25 columns):\n",
      "id                                1458 non-null int64\n",
      "team_fifa_api_id                  1458 non-null int64\n",
      "team_api_id                       1458 non-null int64\n",
      "date                              1458 non-null object\n",
      "buildUpPlaySpeed                  1458 non-null int64\n",
      "buildUpPlaySpeedClass             1458 non-null object\n",
      "buildUpPlayDribbling              489 non-null float64\n",
      "buildUpPlayDribblingClass         1458 non-null object\n",
      "buildUpPlayPassing                1458 non-null int64\n",
      "buildUpPlayPassingClass           1458 non-null object\n",
      "buildUpPlayPositioningClass       1458 non-null object\n",
      "chanceCreationPassing             1458 non-null int64\n",
      "chanceCreationPassingClass        1458 non-null object\n",
      "chanceCreationCrossing            1458 non-null int64\n",
      "chanceCreationCrossingClass       1458 non-null object\n",
      "chanceCreationShooting            1458 non-null int64\n",
      "chanceCreationShootingClass       1458 non-null object\n",
      "chanceCreationPositioningClass    1458 non-null object\n",
      "defencePressure                   1458 non-null int64\n",
      "defencePressureClass              1458 non-null object\n",
      "defenceAggression                 1458 non-null int64\n",
      "defenceAggressionClass            1458 non-null object\n",
      "defenceTeamWidth                  1458 non-null int64\n",
      "defenceTeamWidthClass             1458 non-null object\n",
      "defenceDefenderLineClass          1458 non-null object\n",
      "dtypes: float64(1), int64(11), object(13)\n",
      "memory usage: 284.8+ KB\n"
     ]
    }
   ],
   "source": [
    "# view info\n",
    "team_att_df.info()"
   ]
  },
  {
   "cell_type": "code",
   "execution_count": 27,
   "metadata": {},
   "outputs": [
    {
     "data": {
      "text/plain": [
       "0"
      ]
     },
     "execution_count": 27,
     "metadata": {},
     "output_type": "execute_result"
    }
   ],
   "source": [
    "# count rows\n",
    "team_att_df.duplicated().sum()"
   ]
  },
  {
   "cell_type": "markdown",
   "metadata": {},
   "source": [
    "**Team**"
   ]
  },
  {
   "cell_type": "code",
   "execution_count": 28,
   "metadata": {},
   "outputs": [
    {
     "data": {
      "text/html": [
       "<div>\n",
       "<style scoped>\n",
       "    .dataframe tbody tr th:only-of-type {\n",
       "        vertical-align: middle;\n",
       "    }\n",
       "\n",
       "    .dataframe tbody tr th {\n",
       "        vertical-align: top;\n",
       "    }\n",
       "\n",
       "    .dataframe thead th {\n",
       "        text-align: right;\n",
       "    }\n",
       "</style>\n",
       "<table border=\"1\" class=\"dataframe\">\n",
       "  <thead>\n",
       "    <tr style=\"text-align: right;\">\n",
       "      <th></th>\n",
       "      <th>id</th>\n",
       "      <th>team_api_id</th>\n",
       "      <th>team_fifa_api_id</th>\n",
       "      <th>team_long_name</th>\n",
       "      <th>team_short_name</th>\n",
       "    </tr>\n",
       "  </thead>\n",
       "  <tbody>\n",
       "    <tr>\n",
       "      <th>0</th>\n",
       "      <td>1</td>\n",
       "      <td>9987</td>\n",
       "      <td>673.0</td>\n",
       "      <td>KRC Genk</td>\n",
       "      <td>GEN</td>\n",
       "    </tr>\n",
       "    <tr>\n",
       "      <th>1</th>\n",
       "      <td>2</td>\n",
       "      <td>9993</td>\n",
       "      <td>675.0</td>\n",
       "      <td>Beerschot AC</td>\n",
       "      <td>BAC</td>\n",
       "    </tr>\n",
       "    <tr>\n",
       "      <th>2</th>\n",
       "      <td>3</td>\n",
       "      <td>10000</td>\n",
       "      <td>15005.0</td>\n",
       "      <td>SV Zulte-Waregem</td>\n",
       "      <td>ZUL</td>\n",
       "    </tr>\n",
       "  </tbody>\n",
       "</table>\n",
       "</div>"
      ],
      "text/plain": [
       "   id  team_api_id  team_fifa_api_id    team_long_name team_short_name\n",
       "0   1         9987             673.0          KRC Genk             GEN\n",
       "1   2         9993             675.0      Beerschot AC             BAC\n",
       "2   3        10000           15005.0  SV Zulte-Waregem             ZUL"
      ]
     },
     "execution_count": 28,
     "metadata": {},
     "output_type": "execute_result"
    }
   ],
   "source": [
    "# view first rows\n",
    "team_df.head(3)"
   ]
  },
  {
   "cell_type": "code",
   "execution_count": 29,
   "metadata": {},
   "outputs": [
    {
     "name": "stdout",
     "output_type": "stream",
     "text": [
      "<class 'pandas.core.frame.DataFrame'>\n",
      "RangeIndex: 299 entries, 0 to 298\n",
      "Data columns (total 5 columns):\n",
      "id                  299 non-null int64\n",
      "team_api_id         299 non-null int64\n",
      "team_fifa_api_id    288 non-null float64\n",
      "team_long_name      299 non-null object\n",
      "team_short_name     299 non-null object\n",
      "dtypes: float64(1), int64(2), object(2)\n",
      "memory usage: 11.8+ KB\n"
     ]
    }
   ],
   "source": [
    "# view data info\n",
    "team_df.info()"
   ]
  },
  {
   "cell_type": "markdown",
   "metadata": {},
   "source": [
    "**League**"
   ]
  },
  {
   "cell_type": "code",
   "execution_count": 30,
   "metadata": {
    "scrolled": true
   },
   "outputs": [
    {
     "data": {
      "text/html": [
       "<div>\n",
       "<style scoped>\n",
       "    .dataframe tbody tr th:only-of-type {\n",
       "        vertical-align: middle;\n",
       "    }\n",
       "\n",
       "    .dataframe tbody tr th {\n",
       "        vertical-align: top;\n",
       "    }\n",
       "\n",
       "    .dataframe thead th {\n",
       "        text-align: right;\n",
       "    }\n",
       "</style>\n",
       "<table border=\"1\" class=\"dataframe\">\n",
       "  <thead>\n",
       "    <tr style=\"text-align: right;\">\n",
       "      <th></th>\n",
       "      <th>id</th>\n",
       "      <th>country_id</th>\n",
       "      <th>name</th>\n",
       "    </tr>\n",
       "  </thead>\n",
       "  <tbody>\n",
       "    <tr>\n",
       "      <th>0</th>\n",
       "      <td>1</td>\n",
       "      <td>1</td>\n",
       "      <td>Belgium Jupiler League</td>\n",
       "    </tr>\n",
       "    <tr>\n",
       "      <th>1</th>\n",
       "      <td>1729</td>\n",
       "      <td>1729</td>\n",
       "      <td>England Premier League</td>\n",
       "    </tr>\n",
       "    <tr>\n",
       "      <th>2</th>\n",
       "      <td>4769</td>\n",
       "      <td>4769</td>\n",
       "      <td>France Ligue 1</td>\n",
       "    </tr>\n",
       "  </tbody>\n",
       "</table>\n",
       "</div>"
      ],
      "text/plain": [
       "     id  country_id                    name\n",
       "0     1           1  Belgium Jupiler League\n",
       "1  1729        1729  England Premier League\n",
       "2  4769        4769          France Ligue 1"
      ]
     },
     "execution_count": 30,
     "metadata": {},
     "output_type": "execute_result"
    }
   ],
   "source": [
    "# First 3 rows\n",
    "league_df.head(3)"
   ]
  },
  {
   "cell_type": "code",
   "execution_count": 31,
   "metadata": {},
   "outputs": [
    {
     "name": "stdout",
     "output_type": "stream",
     "text": [
      "<class 'pandas.core.frame.DataFrame'>\n",
      "RangeIndex: 11 entries, 0 to 10\n",
      "Data columns (total 3 columns):\n",
      "id            11 non-null int64\n",
      "country_id    11 non-null int64\n",
      "name          11 non-null object\n",
      "dtypes: int64(2), object(1)\n",
      "memory usage: 344.0+ bytes\n"
     ]
    }
   ],
   "source": [
    "# show data info\n",
    "league_df.info()"
   ]
  },
  {
   "cell_type": "code",
   "execution_count": 32,
   "metadata": {},
   "outputs": [
    {
     "data": {
      "text/plain": [
       "0"
      ]
     },
     "execution_count": 32,
     "metadata": {},
     "output_type": "execute_result"
    }
   ],
   "source": [
    "# count duplicates\n",
    "league_df.duplicated().sum()"
   ]
  },
  {
   "cell_type": "markdown",
   "metadata": {},
   "source": [
    "\n",
    "### Data Cleaning\n",
    "> I am going only keep the necessary columns and dataframes required to answer the questions posed earlier on, the columns containing key match information will be kept and then joined with other data on related keys to create a single combined dataframe"
   ]
  },
  {
   "cell_type": "code",
   "execution_count": 33,
   "metadata": {},
   "outputs": [],
   "source": [
    "# Filter match data and keep columns relevant to questions posed\n",
    "match_df = match_df.filter(items=['id','country_id','league_id', 'season', 'stage', 'date', 'match_api_id', 'home_team_api_id', 'away_team_api_id', 'home_team_goal', 'away_team_goal'])\n"
   ]
  },
  {
   "cell_type": "code",
   "execution_count": 34,
   "metadata": {},
   "outputs": [
    {
     "data": {
      "text/html": [
       "<div>\n",
       "<style scoped>\n",
       "    .dataframe tbody tr th:only-of-type {\n",
       "        vertical-align: middle;\n",
       "    }\n",
       "\n",
       "    .dataframe tbody tr th {\n",
       "        vertical-align: top;\n",
       "    }\n",
       "\n",
       "    .dataframe thead th {\n",
       "        text-align: right;\n",
       "    }\n",
       "</style>\n",
       "<table border=\"1\" class=\"dataframe\">\n",
       "  <thead>\n",
       "    <tr style=\"text-align: right;\">\n",
       "      <th></th>\n",
       "      <th>id</th>\n",
       "      <th>country_id</th>\n",
       "      <th>league_id</th>\n",
       "      <th>season</th>\n",
       "      <th>stage</th>\n",
       "      <th>date</th>\n",
       "      <th>match_api_id</th>\n",
       "      <th>home_team_api_id</th>\n",
       "      <th>away_team_api_id</th>\n",
       "      <th>home_team_goal</th>\n",
       "      <th>away_team_goal</th>\n",
       "      <th>result</th>\n",
       "    </tr>\n",
       "  </thead>\n",
       "  <tbody>\n",
       "    <tr>\n",
       "      <th>0</th>\n",
       "      <td>1</td>\n",
       "      <td>1</td>\n",
       "      <td>1</td>\n",
       "      <td>2008/2009</td>\n",
       "      <td>1</td>\n",
       "      <td>2008-08-17 00:00:00</td>\n",
       "      <td>492473</td>\n",
       "      <td>9987</td>\n",
       "      <td>9993</td>\n",
       "      <td>1</td>\n",
       "      <td>1</td>\n",
       "      <td>draw</td>\n",
       "    </tr>\n",
       "    <tr>\n",
       "      <th>1</th>\n",
       "      <td>2</td>\n",
       "      <td>1</td>\n",
       "      <td>1</td>\n",
       "      <td>2008/2009</td>\n",
       "      <td>1</td>\n",
       "      <td>2008-08-16 00:00:00</td>\n",
       "      <td>492474</td>\n",
       "      <td>10000</td>\n",
       "      <td>9994</td>\n",
       "      <td>0</td>\n",
       "      <td>0</td>\n",
       "      <td>draw</td>\n",
       "    </tr>\n",
       "    <tr>\n",
       "      <th>2</th>\n",
       "      <td>3</td>\n",
       "      <td>1</td>\n",
       "      <td>1</td>\n",
       "      <td>2008/2009</td>\n",
       "      <td>1</td>\n",
       "      <td>2008-08-16 00:00:00</td>\n",
       "      <td>492475</td>\n",
       "      <td>9984</td>\n",
       "      <td>8635</td>\n",
       "      <td>0</td>\n",
       "      <td>3</td>\n",
       "      <td>away_win</td>\n",
       "    </tr>\n",
       "    <tr>\n",
       "      <th>3</th>\n",
       "      <td>4</td>\n",
       "      <td>1</td>\n",
       "      <td>1</td>\n",
       "      <td>2008/2009</td>\n",
       "      <td>1</td>\n",
       "      <td>2008-08-17 00:00:00</td>\n",
       "      <td>492476</td>\n",
       "      <td>9991</td>\n",
       "      <td>9998</td>\n",
       "      <td>5</td>\n",
       "      <td>0</td>\n",
       "      <td>home_win</td>\n",
       "    </tr>\n",
       "    <tr>\n",
       "      <th>4</th>\n",
       "      <td>5</td>\n",
       "      <td>1</td>\n",
       "      <td>1</td>\n",
       "      <td>2008/2009</td>\n",
       "      <td>1</td>\n",
       "      <td>2008-08-16 00:00:00</td>\n",
       "      <td>492477</td>\n",
       "      <td>7947</td>\n",
       "      <td>9985</td>\n",
       "      <td>1</td>\n",
       "      <td>3</td>\n",
       "      <td>away_win</td>\n",
       "    </tr>\n",
       "  </tbody>\n",
       "</table>\n",
       "</div>"
      ],
      "text/plain": [
       "   id  country_id  league_id     season  stage                 date  \\\n",
       "0   1           1          1  2008/2009      1  2008-08-17 00:00:00   \n",
       "1   2           1          1  2008/2009      1  2008-08-16 00:00:00   \n",
       "2   3           1          1  2008/2009      1  2008-08-16 00:00:00   \n",
       "3   4           1          1  2008/2009      1  2008-08-17 00:00:00   \n",
       "4   5           1          1  2008/2009      1  2008-08-16 00:00:00   \n",
       "\n",
       "   match_api_id  home_team_api_id  away_team_api_id  home_team_goal  \\\n",
       "0        492473              9987              9993               1   \n",
       "1        492474             10000              9994               0   \n",
       "2        492475              9984              8635               0   \n",
       "3        492476              9991              9998               5   \n",
       "4        492477              7947              9985               1   \n",
       "\n",
       "   away_team_goal    result  \n",
       "0               1      draw  \n",
       "1               0      draw  \n",
       "2               3  away_win  \n",
       "3               0  home_win  \n",
       "4               3  away_win  "
      ]
     },
     "execution_count": 34,
     "metadata": {},
     "output_type": "execute_result"
    }
   ],
   "source": [
    "# Create result column that contains three possible values home_win, away_win or draw\n",
    "\n",
    "# create a list of our conditions\n",
    "conditions = [\n",
    "    (match_df['home_team_goal'] > match_df['away_team_goal']),\n",
    "    (match_df['home_team_goal'] < match_df['away_team_goal']),\n",
    "    (match_df['home_team_goal'] == match_df['away_team_goal']),\n",
    "    ]\n",
    "\n",
    "# create a list of the values we want to assign for each condition\n",
    "values = ['home_win', 'away_win', 'draw']\n",
    "\n",
    "# create a new column and use np.select to assign values to it using our lists as arguments\n",
    "match_df['result'] = np.select(conditions, values)\n",
    "\n",
    "# display updated DataFrame\n",
    "match_df.head()\n"
   ]
  },
  {
   "cell_type": "code",
   "execution_count": 35,
   "metadata": {},
   "outputs": [
    {
     "data": {
      "text/html": [
       "<div>\n",
       "<style scoped>\n",
       "    .dataframe tbody tr th:only-of-type {\n",
       "        vertical-align: middle;\n",
       "    }\n",
       "\n",
       "    .dataframe tbody tr th {\n",
       "        vertical-align: top;\n",
       "    }\n",
       "\n",
       "    .dataframe thead th {\n",
       "        text-align: right;\n",
       "    }\n",
       "</style>\n",
       "<table border=\"1\" class=\"dataframe\">\n",
       "  <thead>\n",
       "    <tr style=\"text-align: right;\">\n",
       "      <th></th>\n",
       "      <th>id</th>\n",
       "      <th>country_id</th>\n",
       "      <th>league_id</th>\n",
       "      <th>season</th>\n",
       "      <th>stage</th>\n",
       "      <th>date</th>\n",
       "      <th>match_api_id</th>\n",
       "      <th>home_team</th>\n",
       "      <th>away_team</th>\n",
       "      <th>home_team_goal</th>\n",
       "      <th>away_team_goal</th>\n",
       "      <th>result</th>\n",
       "    </tr>\n",
       "  </thead>\n",
       "  <tbody>\n",
       "    <tr>\n",
       "      <th>0</th>\n",
       "      <td>2</td>\n",
       "      <td>1</td>\n",
       "      <td>1</td>\n",
       "      <td>2008/2009</td>\n",
       "      <td>1</td>\n",
       "      <td>2008-08-17 00:00:00</td>\n",
       "      <td>492473</td>\n",
       "      <td>KRC Genk</td>\n",
       "      <td>Beerschot AC</td>\n",
       "      <td>1</td>\n",
       "      <td>1</td>\n",
       "      <td>draw</td>\n",
       "    </tr>\n",
       "    <tr>\n",
       "      <th>1</th>\n",
       "      <td>4</td>\n",
       "      <td>1</td>\n",
       "      <td>1</td>\n",
       "      <td>2008/2009</td>\n",
       "      <td>1</td>\n",
       "      <td>2008-08-16 00:00:00</td>\n",
       "      <td>492474</td>\n",
       "      <td>SV Zulte-Waregem</td>\n",
       "      <td>Sporting Lokeren</td>\n",
       "      <td>0</td>\n",
       "      <td>0</td>\n",
       "      <td>draw</td>\n",
       "    </tr>\n",
       "    <tr>\n",
       "      <th>2</th>\n",
       "      <td>6</td>\n",
       "      <td>1</td>\n",
       "      <td>1</td>\n",
       "      <td>2008/2009</td>\n",
       "      <td>1</td>\n",
       "      <td>2008-08-16 00:00:00</td>\n",
       "      <td>492475</td>\n",
       "      <td>KSV Cercle Brugge</td>\n",
       "      <td>RSC Anderlecht</td>\n",
       "      <td>0</td>\n",
       "      <td>3</td>\n",
       "      <td>away_win</td>\n",
       "    </tr>\n",
       "  </tbody>\n",
       "</table>\n",
       "</div>"
      ],
      "text/plain": [
       "   id  country_id  league_id     season  stage                 date  \\\n",
       "0   2           1          1  2008/2009      1  2008-08-17 00:00:00   \n",
       "1   4           1          1  2008/2009      1  2008-08-16 00:00:00   \n",
       "2   6           1          1  2008/2009      1  2008-08-16 00:00:00   \n",
       "\n",
       "   match_api_id          home_team         away_team  home_team_goal  \\\n",
       "0        492473           KRC Genk      Beerschot AC               1   \n",
       "1        492474   SV Zulte-Waregem  Sporting Lokeren               0   \n",
       "2        492475  KSV Cercle Brugge    RSC Anderlecht               0   \n",
       "\n",
       "   away_team_goal    result  \n",
       "0               1      draw  \n",
       "1               0      draw  \n",
       "2               3  away_win  "
      ]
     },
     "execution_count": 35,
     "metadata": {},
     "output_type": "execute_result"
    }
   ],
   "source": [
    "# combine datasets to get country, league, club names\n",
    "\n",
    "# combine match and team\n",
    "df_combined = match_df.merge(team_df, left_on='home_team_api_id', right_on='team_api_id', how='left').rename(columns={\"team_long_name\": \"home_team\"})\n",
    "df_combined =df_combined.filter(items = ['id','country_id','league_id','season','stage','date','match_api_id','home_team','away_team_api_id','home_team_goal','away_team_goal','result'])\n",
    "df_combined = df_combined.merge(team_df, left_on='away_team_api_id', right_on='team_api_id', how='left').rename(columns={\"team_long_name\": \"away_team\"})\n",
    "df_combined = df_combined.filter(items = ['id','country_id','league_id','season','stage','date','match_api_id','home_team','away_team','home_team_goal','away_team_goal','result'])\n",
    "df_combined.head(3)"
   ]
  },
  {
   "cell_type": "code",
   "execution_count": 36,
   "metadata": {},
   "outputs": [
    {
     "data": {
      "text/html": [
       "<div>\n",
       "<style scoped>\n",
       "    .dataframe tbody tr th:only-of-type {\n",
       "        vertical-align: middle;\n",
       "    }\n",
       "\n",
       "    .dataframe tbody tr th {\n",
       "        vertical-align: top;\n",
       "    }\n",
       "\n",
       "    .dataframe thead th {\n",
       "        text-align: right;\n",
       "    }\n",
       "</style>\n",
       "<table border=\"1\" class=\"dataframe\">\n",
       "  <thead>\n",
       "    <tr style=\"text-align: right;\">\n",
       "      <th></th>\n",
       "      <th>id_left</th>\n",
       "      <th>country_id_left</th>\n",
       "      <th>league_id</th>\n",
       "      <th>season</th>\n",
       "      <th>stage</th>\n",
       "      <th>date</th>\n",
       "      <th>match_api_id</th>\n",
       "      <th>home_team</th>\n",
       "      <th>away_team</th>\n",
       "      <th>home_team_goal</th>\n",
       "      <th>away_team_goal</th>\n",
       "      <th>result</th>\n",
       "      <th>id_right</th>\n",
       "      <th>country_id_right</th>\n",
       "      <th>league</th>\n",
       "    </tr>\n",
       "  </thead>\n",
       "  <tbody>\n",
       "    <tr>\n",
       "      <th>0</th>\n",
       "      <td>2</td>\n",
       "      <td>1</td>\n",
       "      <td>1</td>\n",
       "      <td>2008/2009</td>\n",
       "      <td>1</td>\n",
       "      <td>2008-08-17 00:00:00</td>\n",
       "      <td>492473</td>\n",
       "      <td>KRC Genk</td>\n",
       "      <td>Beerschot AC</td>\n",
       "      <td>1</td>\n",
       "      <td>1</td>\n",
       "      <td>draw</td>\n",
       "      <td>1</td>\n",
       "      <td>1</td>\n",
       "      <td>Belgium Jupiler League</td>\n",
       "    </tr>\n",
       "    <tr>\n",
       "      <th>1</th>\n",
       "      <td>4</td>\n",
       "      <td>1</td>\n",
       "      <td>1</td>\n",
       "      <td>2008/2009</td>\n",
       "      <td>1</td>\n",
       "      <td>2008-08-16 00:00:00</td>\n",
       "      <td>492474</td>\n",
       "      <td>SV Zulte-Waregem</td>\n",
       "      <td>Sporting Lokeren</td>\n",
       "      <td>0</td>\n",
       "      <td>0</td>\n",
       "      <td>draw</td>\n",
       "      <td>1</td>\n",
       "      <td>1</td>\n",
       "      <td>Belgium Jupiler League</td>\n",
       "    </tr>\n",
       "    <tr>\n",
       "      <th>2</th>\n",
       "      <td>6</td>\n",
       "      <td>1</td>\n",
       "      <td>1</td>\n",
       "      <td>2008/2009</td>\n",
       "      <td>1</td>\n",
       "      <td>2008-08-16 00:00:00</td>\n",
       "      <td>492475</td>\n",
       "      <td>KSV Cercle Brugge</td>\n",
       "      <td>RSC Anderlecht</td>\n",
       "      <td>0</td>\n",
       "      <td>3</td>\n",
       "      <td>away_win</td>\n",
       "      <td>1</td>\n",
       "      <td>1</td>\n",
       "      <td>Belgium Jupiler League</td>\n",
       "    </tr>\n",
       "  </tbody>\n",
       "</table>\n",
       "</div>"
      ],
      "text/plain": [
       "   id_left  country_id_left  league_id     season  stage                 date  \\\n",
       "0        2                1          1  2008/2009      1  2008-08-17 00:00:00   \n",
       "1        4                1          1  2008/2009      1  2008-08-16 00:00:00   \n",
       "2        6                1          1  2008/2009      1  2008-08-16 00:00:00   \n",
       "\n",
       "   match_api_id          home_team         away_team  home_team_goal  \\\n",
       "0        492473           KRC Genk      Beerschot AC               1   \n",
       "1        492474   SV Zulte-Waregem  Sporting Lokeren               0   \n",
       "2        492475  KSV Cercle Brugge    RSC Anderlecht               0   \n",
       "\n",
       "   away_team_goal    result  id_right  country_id_right  \\\n",
       "0               1      draw         1                 1   \n",
       "1               0      draw         1                 1   \n",
       "2               3  away_win         1                 1   \n",
       "\n",
       "                   league  \n",
       "0  Belgium Jupiler League  \n",
       "1  Belgium Jupiler League  \n",
       "2  Belgium Jupiler League  "
      ]
     },
     "execution_count": 36,
     "metadata": {},
     "output_type": "execute_result"
    }
   ],
   "source": [
    "# combine with league info\n",
    "df_combined = df_combined.merge(league_df, left_on='league_id', right_on='id', how='left',suffixes=('_left', '_right')).rename(columns={\"name\": \"league\"})\n",
    "df_combined.head(3)"
   ]
  },
  {
   "cell_type": "code",
   "execution_count": 37,
   "metadata": {
    "scrolled": true
   },
   "outputs": [
    {
     "data": {
      "text/html": [
       "<div>\n",
       "<style scoped>\n",
       "    .dataframe tbody tr th:only-of-type {\n",
       "        vertical-align: middle;\n",
       "    }\n",
       "\n",
       "    .dataframe tbody tr th {\n",
       "        vertical-align: top;\n",
       "    }\n",
       "\n",
       "    .dataframe thead th {\n",
       "        text-align: right;\n",
       "    }\n",
       "</style>\n",
       "<table border=\"1\" class=\"dataframe\">\n",
       "  <thead>\n",
       "    <tr style=\"text-align: right;\">\n",
       "      <th></th>\n",
       "      <th>country</th>\n",
       "      <th>league</th>\n",
       "      <th>season</th>\n",
       "      <th>stage</th>\n",
       "      <th>date</th>\n",
       "      <th>match_api_id</th>\n",
       "      <th>home_team</th>\n",
       "      <th>away_team</th>\n",
       "      <th>home_team_goal</th>\n",
       "      <th>away_team_goal</th>\n",
       "      <th>result</th>\n",
       "    </tr>\n",
       "  </thead>\n",
       "  <tbody>\n",
       "    <tr>\n",
       "      <th>0</th>\n",
       "      <td>Belgium</td>\n",
       "      <td>Belgium Jupiler League</td>\n",
       "      <td>2008/2009</td>\n",
       "      <td>1</td>\n",
       "      <td>2008-08-17 00:00:00</td>\n",
       "      <td>492473</td>\n",
       "      <td>KRC Genk</td>\n",
       "      <td>Beerschot AC</td>\n",
       "      <td>1</td>\n",
       "      <td>1</td>\n",
       "      <td>draw</td>\n",
       "    </tr>\n",
       "    <tr>\n",
       "      <th>1</th>\n",
       "      <td>Belgium</td>\n",
       "      <td>Belgium Jupiler League</td>\n",
       "      <td>2008/2009</td>\n",
       "      <td>1</td>\n",
       "      <td>2008-08-16 00:00:00</td>\n",
       "      <td>492474</td>\n",
       "      <td>SV Zulte-Waregem</td>\n",
       "      <td>Sporting Lokeren</td>\n",
       "      <td>0</td>\n",
       "      <td>0</td>\n",
       "      <td>draw</td>\n",
       "    </tr>\n",
       "    <tr>\n",
       "      <th>2</th>\n",
       "      <td>Belgium</td>\n",
       "      <td>Belgium Jupiler League</td>\n",
       "      <td>2008/2009</td>\n",
       "      <td>1</td>\n",
       "      <td>2008-08-16 00:00:00</td>\n",
       "      <td>492475</td>\n",
       "      <td>KSV Cercle Brugge</td>\n",
       "      <td>RSC Anderlecht</td>\n",
       "      <td>0</td>\n",
       "      <td>3</td>\n",
       "      <td>away_win</td>\n",
       "    </tr>\n",
       "  </tbody>\n",
       "</table>\n",
       "</div>"
      ],
      "text/plain": [
       "   country                  league     season  stage                 date  \\\n",
       "0  Belgium  Belgium Jupiler League  2008/2009      1  2008-08-17 00:00:00   \n",
       "1  Belgium  Belgium Jupiler League  2008/2009      1  2008-08-16 00:00:00   \n",
       "2  Belgium  Belgium Jupiler League  2008/2009      1  2008-08-16 00:00:00   \n",
       "\n",
       "   match_api_id          home_team         away_team  home_team_goal  \\\n",
       "0        492473           KRC Genk      Beerschot AC               1   \n",
       "1        492474   SV Zulte-Waregem  Sporting Lokeren               0   \n",
       "2        492475  KSV Cercle Brugge    RSC Anderlecht               0   \n",
       "\n",
       "   away_team_goal    result  \n",
       "0               1      draw  \n",
       "1               0      draw  \n",
       "2               3  away_win  "
      ]
     },
     "execution_count": 37,
     "metadata": {},
     "output_type": "execute_result"
    }
   ],
   "source": [
    "#combine with country\n",
    "\n",
    "df_combined = df_combined.merge(country_df, left_on='country_id_left', right_on='id', how='left').rename(columns={\"name\": \"country\"})\n",
    "df_combined = df_combined.filter(items = ['country','league','season','stage','date','match_api_id','home_team','away_team','home_team_goal','away_team_goal','result'])\n",
    "df_combined.head(3)"
   ]
  },
  {
   "cell_type": "code",
   "execution_count": 38,
   "metadata": {},
   "outputs": [
    {
     "data": {
      "text/html": [
       "<div>\n",
       "<style scoped>\n",
       "    .dataframe tbody tr th:only-of-type {\n",
       "        vertical-align: middle;\n",
       "    }\n",
       "\n",
       "    .dataframe tbody tr th {\n",
       "        vertical-align: top;\n",
       "    }\n",
       "\n",
       "    .dataframe thead th {\n",
       "        text-align: right;\n",
       "    }\n",
       "</style>\n",
       "<table border=\"1\" class=\"dataframe\">\n",
       "  <thead>\n",
       "    <tr style=\"text-align: right;\">\n",
       "      <th></th>\n",
       "      <th>country</th>\n",
       "      <th>league</th>\n",
       "      <th>season</th>\n",
       "      <th>stage</th>\n",
       "      <th>date</th>\n",
       "      <th>match_api_id</th>\n",
       "      <th>home_team</th>\n",
       "      <th>away_team</th>\n",
       "      <th>home_team_goal</th>\n",
       "      <th>away_team_goal</th>\n",
       "      <th>result</th>\n",
       "      <th>home_points</th>\n",
       "      <th>away_points</th>\n",
       "    </tr>\n",
       "  </thead>\n",
       "  <tbody>\n",
       "    <tr>\n",
       "      <th>0</th>\n",
       "      <td>Belgium</td>\n",
       "      <td>Belgium Jupiler League</td>\n",
       "      <td>2008/2009</td>\n",
       "      <td>1</td>\n",
       "      <td>2008-08-17 00:00:00</td>\n",
       "      <td>492473</td>\n",
       "      <td>KRC Genk</td>\n",
       "      <td>Beerschot AC</td>\n",
       "      <td>1</td>\n",
       "      <td>1</td>\n",
       "      <td>draw</td>\n",
       "      <td>1</td>\n",
       "      <td>1</td>\n",
       "    </tr>\n",
       "    <tr>\n",
       "      <th>1</th>\n",
       "      <td>Belgium</td>\n",
       "      <td>Belgium Jupiler League</td>\n",
       "      <td>2008/2009</td>\n",
       "      <td>1</td>\n",
       "      <td>2008-08-16 00:00:00</td>\n",
       "      <td>492474</td>\n",
       "      <td>SV Zulte-Waregem</td>\n",
       "      <td>Sporting Lokeren</td>\n",
       "      <td>0</td>\n",
       "      <td>0</td>\n",
       "      <td>draw</td>\n",
       "      <td>1</td>\n",
       "      <td>1</td>\n",
       "    </tr>\n",
       "    <tr>\n",
       "      <th>2</th>\n",
       "      <td>Belgium</td>\n",
       "      <td>Belgium Jupiler League</td>\n",
       "      <td>2008/2009</td>\n",
       "      <td>1</td>\n",
       "      <td>2008-08-16 00:00:00</td>\n",
       "      <td>492475</td>\n",
       "      <td>KSV Cercle Brugge</td>\n",
       "      <td>RSC Anderlecht</td>\n",
       "      <td>0</td>\n",
       "      <td>3</td>\n",
       "      <td>away_win</td>\n",
       "      <td>0</td>\n",
       "      <td>3</td>\n",
       "    </tr>\n",
       "    <tr>\n",
       "      <th>3</th>\n",
       "      <td>Belgium</td>\n",
       "      <td>Belgium Jupiler League</td>\n",
       "      <td>2008/2009</td>\n",
       "      <td>1</td>\n",
       "      <td>2008-08-17 00:00:00</td>\n",
       "      <td>492476</td>\n",
       "      <td>KAA Gent</td>\n",
       "      <td>RAEC Mons</td>\n",
       "      <td>5</td>\n",
       "      <td>0</td>\n",
       "      <td>home_win</td>\n",
       "      <td>3</td>\n",
       "      <td>0</td>\n",
       "    </tr>\n",
       "    <tr>\n",
       "      <th>4</th>\n",
       "      <td>Belgium</td>\n",
       "      <td>Belgium Jupiler League</td>\n",
       "      <td>2008/2009</td>\n",
       "      <td>1</td>\n",
       "      <td>2008-08-16 00:00:00</td>\n",
       "      <td>492477</td>\n",
       "      <td>FCV Dender EH</td>\n",
       "      <td>Standard de Liège</td>\n",
       "      <td>1</td>\n",
       "      <td>3</td>\n",
       "      <td>away_win</td>\n",
       "      <td>0</td>\n",
       "      <td>3</td>\n",
       "    </tr>\n",
       "  </tbody>\n",
       "</table>\n",
       "</div>"
      ],
      "text/plain": [
       "   country                  league     season  stage                 date  \\\n",
       "0  Belgium  Belgium Jupiler League  2008/2009      1  2008-08-17 00:00:00   \n",
       "1  Belgium  Belgium Jupiler League  2008/2009      1  2008-08-16 00:00:00   \n",
       "2  Belgium  Belgium Jupiler League  2008/2009      1  2008-08-16 00:00:00   \n",
       "3  Belgium  Belgium Jupiler League  2008/2009      1  2008-08-17 00:00:00   \n",
       "4  Belgium  Belgium Jupiler League  2008/2009      1  2008-08-16 00:00:00   \n",
       "\n",
       "   match_api_id          home_team          away_team  home_team_goal  \\\n",
       "0        492473           KRC Genk       Beerschot AC               1   \n",
       "1        492474   SV Zulte-Waregem   Sporting Lokeren               0   \n",
       "2        492475  KSV Cercle Brugge     RSC Anderlecht               0   \n",
       "3        492476           KAA Gent          RAEC Mons               5   \n",
       "4        492477      FCV Dender EH  Standard de Liège               1   \n",
       "\n",
       "   away_team_goal    result  home_points  away_points  \n",
       "0               1      draw            1            1  \n",
       "1               0      draw            1            1  \n",
       "2               3  away_win            0            3  \n",
       "3               0  home_win            3            0  \n",
       "4               3  away_win            0            3  "
      ]
     },
     "execution_count": 38,
     "metadata": {},
     "output_type": "execute_result"
    }
   ],
   "source": [
    "# Get points home and away\n",
    "#for home points if result is equals to draw then 1, if result is equal to home win then 3, if result is awaywin then 0\n",
    "#for away points  if result is equals to draw then 1, if result is equal to away win then 3, if result is homewin then 0\n",
    "\n",
    "# create a list of our conditions\n",
    "conditions = [\n",
    "    (df_combined['result'] == 'draw'),\n",
    "    (df_combined['result'] == 'home_win'),\n",
    "    (df_combined['result'] == 'away_win')\n",
    "    ]\n",
    "\n",
    "conditions_away = [\n",
    "    (df_combined['result'] == 'draw'),\n",
    "    (df_combined['result'] == 'home_win'),\n",
    "    (df_combined['result'] == 'away_win')\n",
    "    ]\n",
    "\n",
    "# create a list of the values we want to assign for each condition\n",
    "values = [1, 3, 0]\n",
    "values_2 = [1,0,3]\n",
    "\n",
    "# create a new column and use np.select to assign values to it using our lists as arguments\n",
    "df_combined['home_points'] = np.select(conditions, values)\n",
    "df_combined['away_points'] = np.select(conditions_away, values_2)\n",
    "\n",
    "# display updated DataFrame\n",
    "df_combined.head()"
   ]
  },
  {
   "cell_type": "code",
   "execution_count": 39,
   "metadata": {},
   "outputs": [],
   "source": [
    "def make_table(league,season):\n",
    "    '''Function that returns league table for a season\n",
    "    Input string - league(name of league in \"\"),season(season in \"\")\n",
    "    Output  df- league table with club, points, gf, ga, gd\n",
    "    '''\n",
    "    # Group by league and season\n",
    "    league_year = df_combined.query('league == @league & season == @season')\n",
    "    # Get team's home points\n",
    "    home_points = league_year.groupby('home_team')['home_points'].sum().reset_index()\n",
    "    home_points = pd.DataFrame(data= home_points)\n",
    "    # Get team's away points\n",
    "    away_points = league_year.groupby('away_team')['away_points'].sum().reset_index()\n",
    "    away_points = pd.DataFrame(data= away_points)\n",
    "    # Get total points\n",
    "    points = home_points.merge(away_points, left_on='home_team', right_on='away_team', how='left').rename(columns={\"home_team\": \"team_points\"})\n",
    "    points['points'] = points['home_points'] + points['away_points']\n",
    "    points = points.filter(['team_points','points'])\n",
    "\n",
    "    # get goals scored\n",
    "    home_goals = league_year.groupby('home_team')['home_team_goal'].sum().reset_index()\n",
    "    home_goals =  pd.DataFrame(data= home_goals)\n",
    "\n",
    "    away_goals = league_year.groupby('away_team')['away_team_goal'].sum().reset_index()\n",
    "    away_goals =  pd.DataFrame(data= away_goals)\n",
    "    # Get total goals\n",
    "    goals_for = home_goals.merge(away_goals, left_on='home_team', right_on='away_team', how='left').rename(columns={\"home_team\": \"team_gf\"})\n",
    "    goals_for['gf'] = goals_for['home_team_goal'] + goals_for['away_team_goal']\n",
    "    goals_for = goals_for.filter(['team_gf','gf'])\n",
    "\n",
    "    # get goals conceeded home and away\n",
    "    conceed_home = league_year.groupby('home_team')['away_team_goal'].sum().reset_index()\n",
    "    conceed_home =  pd.DataFrame(data= conceed_home)\n",
    "\n",
    "    conceed_away = league_year.groupby('away_team')['home_team_goal'].sum().reset_index()\n",
    "    conceed_away =  pd.DataFrame(data= conceed_away)\n",
    "\n",
    "    # join conceeded goals dfs\n",
    "    goals_against = conceed_home.merge(conceed_away, left_on='home_team', right_on='away_team', how='left').rename(columns={\"home_team\": \"team_ga\"})\n",
    "    # get total conceeded\n",
    "    goals_against['ga'] = goals_against['away_team_goal'] + goals_against['home_team_goal']\n",
    "    goals_against = goals_against.filter(['team_ga','ga'])\n",
    "\n",
    "    # join all goals and get goal difference\n",
    "    goals = goals_against.merge(goals_for, left_on='team_ga', right_on='team_gf', how='left')\n",
    "    goals['gd'] = goals['gf'] - goals['ga']\n",
    "    \n",
    "    # Combine all and get the table\n",
    "    table = points.merge(goals, left_on='team_points', right_on='team_ga', how='left').sort_values(['points', 'gd'],ascending = [False, False]).rename(columns={\"team_points\": \"club\"})\n",
    "    table = table.filter(['club','points','gf','ga','gd']).reset_index(drop=True)\n",
    "    # Make index start at one\n",
    "    table.index = table.index + 1                     \n",
    "\n",
    "    return table"
   ]
  },
  {
   "cell_type": "markdown",
   "metadata": {},
   "source": [
    "<a id='eda'></a>\n",
    "## Exploratory Data Analysis\n",
    "\n",
    "### What is the most likely occurence in a game between(Home win, away win or draw) ?"
   ]
  },
  {
   "cell_type": "code",
   "execution_count": 40,
   "metadata": {},
   "outputs": [
    {
     "data": {
      "text/html": [
       "<div>\n",
       "<style scoped>\n",
       "    .dataframe tbody tr th:only-of-type {\n",
       "        vertical-align: middle;\n",
       "    }\n",
       "\n",
       "    .dataframe tbody tr th {\n",
       "        vertical-align: top;\n",
       "    }\n",
       "\n",
       "    .dataframe thead th {\n",
       "        text-align: right;\n",
       "    }\n",
       "</style>\n",
       "<table border=\"1\" class=\"dataframe\">\n",
       "  <thead>\n",
       "    <tr style=\"text-align: right;\">\n",
       "      <th></th>\n",
       "      <th>Match outcome</th>\n",
       "      <th>result</th>\n",
       "    </tr>\n",
       "  </thead>\n",
       "  <tbody>\n",
       "    <tr>\n",
       "      <th>0</th>\n",
       "      <td>home_win</td>\n",
       "      <td>45.871666</td>\n",
       "    </tr>\n",
       "    <tr>\n",
       "      <th>1</th>\n",
       "      <td>away_win</td>\n",
       "      <td>28.738597</td>\n",
       "    </tr>\n",
       "    <tr>\n",
       "      <th>2</th>\n",
       "      <td>draw</td>\n",
       "      <td>25.389738</td>\n",
       "    </tr>\n",
       "  </tbody>\n",
       "</table>\n",
       "</div>"
      ],
      "text/plain": [
       "  Match outcome     result\n",
       "0      home_win  45.871666\n",
       "1      away_win  28.738597\n",
       "2          draw  25.389738"
      ]
     },
     "execution_count": 40,
     "metadata": {},
     "output_type": "execute_result"
    }
   ],
   "source": [
    "# Use this, and more code cells, to explore your data. Don't forget to add\n",
    "#   Markdown cells to document your observations and findings.\n",
    "game_results = df_combined['result'].value_counts()* 100 / len(df_combined)\n",
    "game_results = game_results.rename_axis('Match outcome').reset_index()\n",
    "game_results = pd.DataFrame(data= game_results)\n",
    "game_results"
   ]
  },
  {
   "cell_type": "code",
   "execution_count": 41,
   "metadata": {},
   "outputs": [
    {
     "data": {
      "image/png": "[encoded data removed]",
      "text/plain": [
       "<matplotlib.figure.Figure at 0x7fa53198ef28>"
      ]
     },
     "metadata": {
      "needs_background": "light"
     },
     "output_type": "display_data"
    }
   ],
   "source": [
    "plt.bar(x = game_results['Match outcome'],\n",
    "        # using the data from the game results\n",
    "        height = game_results['result'], \n",
    "        # aligned in the center\n",
    "        align='center',\n",
    "        # with color\n",
    "        color='#FFC222',\n",
    "        # alpha 0.5\n",
    "        alpha=0.5)\n",
    "plt.title('Frequency of each match result')\n",
    "plt.ylabel('Frequency')\n",
    "plt.show()"
   ]
  },
  {
   "cell_type": "markdown",
   "metadata": {},
   "source": [
    "> The most frequent occurence is a home win 45.87% , followed by an away win 28.7, and finally the least frequent is a draw with 25.39%"
   ]
  },
  {
   "cell_type": "markdown",
   "metadata": {},
   "source": [
    "### What teams have had the most wins over the time period?"
   ]
  },
  {
   "cell_type": "code",
   "execution_count": 42,
   "metadata": {},
   "outputs": [],
   "source": [
    "# Get home and away wins for clubs \n",
    "home_res = df_combined.filter(items=['home_team','result'])\n",
    "home_res = home_res.query('result == \"home_win\"')\n",
    "home_res = home_res.groupby('home_team').count().rename_axis('home_team').rename(columns={\"result\": \"home_wins\"}).reset_index()\n",
    "home_res=pd.DataFrame(data= home_res)\n",
    "\n",
    "\n",
    "away_res = df_combined.filter(items=['away_team','result'])\n",
    "away_res = away_res.query('result == \"away_win\"')\n",
    "away_res = away_res.groupby('away_team').count().rename_axis('away_team').rename(columns={\"result\": \"away_wins\"}).reset_index()\n",
    "away_res=pd.DataFrame(data= away_res)\n",
    "\n",
    "\n",
    "\n",
    "club_res = home_res.merge(away_res, left_on='home_team', right_on='away_team', how='left').rename(columns={\"home_team\": \"team\"})\n",
    "club_res= club_res.filter(items =['team','home_wins','away_wins'])\n",
    "club_res['wins'] = club_res['home_wins'] + club_res['away_wins']\n",
    "club_res.sort_values('wins',ascending= False, inplace=True)"
   ]
  },
  {
   "cell_type": "code",
   "execution_count": 43,
   "metadata": {},
   "outputs": [
    {
     "data": {
      "text/html": [
       "<div>\n",
       "<style scoped>\n",
       "    .dataframe tbody tr th:only-of-type {\n",
       "        vertical-align: middle;\n",
       "    }\n",
       "\n",
       "    .dataframe tbody tr th {\n",
       "        vertical-align: top;\n",
       "    }\n",
       "\n",
       "    .dataframe thead th {\n",
       "        text-align: right;\n",
       "    }\n",
       "</style>\n",
       "<table border=\"1\" class=\"dataframe\">\n",
       "  <thead>\n",
       "    <tr style=\"text-align: right;\">\n",
       "      <th></th>\n",
       "      <th>team</th>\n",
       "      <th>home_wins</th>\n",
       "      <th>away_wins</th>\n",
       "      <th>wins</th>\n",
       "    </tr>\n",
       "  </thead>\n",
       "  <tbody>\n",
       "    <tr>\n",
       "      <th>75</th>\n",
       "      <td>FC Barcelona</td>\n",
       "      <td>131</td>\n",
       "      <td>103</td>\n",
       "      <td>234</td>\n",
       "    </tr>\n",
       "    <tr>\n",
       "      <th>211</th>\n",
       "      <td>Real Madrid CF</td>\n",
       "      <td>129</td>\n",
       "      <td>99</td>\n",
       "      <td>228</td>\n",
       "    </tr>\n",
       "    <tr>\n",
       "      <th>49</th>\n",
       "      <td>Celtic</td>\n",
       "      <td>120</td>\n",
       "      <td>98</td>\n",
       "      <td>218</td>\n",
       "    </tr>\n",
       "    <tr>\n",
       "      <th>77</th>\n",
       "      <td>FC Bayern Munich</td>\n",
       "      <td>109</td>\n",
       "      <td>84</td>\n",
       "      <td>193</td>\n",
       "    </tr>\n",
       "    <tr>\n",
       "      <th>162</th>\n",
       "      <td>Manchester United</td>\n",
       "      <td>116</td>\n",
       "      <td>76</td>\n",
       "      <td>192</td>\n",
       "    </tr>\n",
       "    <tr>\n",
       "      <th>133</th>\n",
       "      <td>Juventus</td>\n",
       "      <td>105</td>\n",
       "      <td>84</td>\n",
       "      <td>189</td>\n",
       "    </tr>\n",
       "    <tr>\n",
       "      <th>232</th>\n",
       "      <td>SL Benfica</td>\n",
       "      <td>102</td>\n",
       "      <td>83</td>\n",
       "      <td>185</td>\n",
       "    </tr>\n",
       "    <tr>\n",
       "      <th>89</th>\n",
       "      <td>FC Porto</td>\n",
       "      <td>102</td>\n",
       "      <td>81</td>\n",
       "      <td>183</td>\n",
       "    </tr>\n",
       "    <tr>\n",
       "      <th>15</th>\n",
       "      <td>Ajax</td>\n",
       "      <td>103</td>\n",
       "      <td>78</td>\n",
       "      <td>181</td>\n",
       "    </tr>\n",
       "    <tr>\n",
       "      <th>76</th>\n",
       "      <td>FC Basel</td>\n",
       "      <td>103</td>\n",
       "      <td>77</td>\n",
       "      <td>180</td>\n",
       "    </tr>\n",
       "  </tbody>\n",
       "</table>\n",
       "</div>"
      ],
      "text/plain": [
       "                  team  home_wins  away_wins  wins\n",
       "75        FC Barcelona        131        103   234\n",
       "211     Real Madrid CF        129         99   228\n",
       "49              Celtic        120         98   218\n",
       "77    FC Bayern Munich        109         84   193\n",
       "162  Manchester United        116         76   192\n",
       "133           Juventus        105         84   189\n",
       "232         SL Benfica        102         83   185\n",
       "89            FC Porto        102         81   183\n",
       "15                Ajax        103         78   181\n",
       "76            FC Basel        103         77   180"
      ]
     },
     "execution_count": 43,
     "metadata": {},
     "output_type": "execute_result"
    }
   ],
   "source": [
    "# View top ten clubs by wins\n",
    "club_res.head(10)"
   ]
  },
  {
   "cell_type": "markdown",
   "metadata": {},
   "source": [
    "> **Fc Barcelona** of Spain had the most wins during the period with **234** wins, closely followed by their league rivals **Real Madrid** with **228** wins"
   ]
  },
  {
   "cell_type": "markdown",
   "metadata": {},
   "source": [
    "### What is the average goal scored per game in the european leagues?\n"
   ]
  },
  {
   "cell_type": "code",
   "execution_count": 44,
   "metadata": {},
   "outputs": [
    {
     "data": {
      "text/plain": [
       "0       Belgium Jupiler League\n",
       "1       England Premier League\n",
       "2               France Ligue 1\n",
       "3        Germany 1. Bundesliga\n",
       "4                Italy Serie A\n",
       "5       Netherlands Eredivisie\n",
       "6           Poland Ekstraklasa\n",
       "7     Portugal Liga ZON Sagres\n",
       "8      Scotland Premier League\n",
       "9              Spain LIGA BBVA\n",
       "10    Switzerland Super League\n",
       "Name: name, dtype: object"
      ]
     },
     "execution_count": 44,
     "metadata": {},
     "output_type": "execute_result"
    }
   ],
   "source": [
    "# View available leagues\n",
    "league_df['name']"
   ]
  },
  {
   "cell_type": "code",
   "execution_count": 45,
   "metadata": {},
   "outputs": [
    {
     "data": {
      "text/html": [
       "<div>\n",
       "<style scoped>\n",
       "    .dataframe tbody tr th:only-of-type {\n",
       "        vertical-align: middle;\n",
       "    }\n",
       "\n",
       "    .dataframe tbody tr th {\n",
       "        vertical-align: top;\n",
       "    }\n",
       "\n",
       "    .dataframe thead th {\n",
       "        text-align: right;\n",
       "    }\n",
       "</style>\n",
       "<table border=\"1\" class=\"dataframe\">\n",
       "  <thead>\n",
       "    <tr style=\"text-align: right;\">\n",
       "      <th></th>\n",
       "      <th>League</th>\n",
       "      <th>goals</th>\n",
       "      <th>games</th>\n",
       "    </tr>\n",
       "  </thead>\n",
       "  <tbody>\n",
       "    <tr>\n",
       "      <th>5</th>\n",
       "      <td>Netherlands Eredivisie</td>\n",
       "      <td>3.080882</td>\n",
       "      <td>2448</td>\n",
       "    </tr>\n",
       "    <tr>\n",
       "      <th>10</th>\n",
       "      <td>Switzerland Super League</td>\n",
       "      <td>2.929677</td>\n",
       "      <td>1422</td>\n",
       "    </tr>\n",
       "    <tr>\n",
       "      <th>3</th>\n",
       "      <td>Germany 1. Bundesliga</td>\n",
       "      <td>2.901552</td>\n",
       "      <td>2448</td>\n",
       "    </tr>\n",
       "    <tr>\n",
       "      <th>0</th>\n",
       "      <td>Belgium Jupiler League</td>\n",
       "      <td>2.801505</td>\n",
       "      <td>1728</td>\n",
       "    </tr>\n",
       "    <tr>\n",
       "      <th>9</th>\n",
       "      <td>Spain LIGA BBVA</td>\n",
       "      <td>2.767105</td>\n",
       "      <td>3040</td>\n",
       "    </tr>\n",
       "    <tr>\n",
       "      <th>1</th>\n",
       "      <td>England Premier League</td>\n",
       "      <td>2.710526</td>\n",
       "      <td>3040</td>\n",
       "    </tr>\n",
       "    <tr>\n",
       "      <th>8</th>\n",
       "      <td>Scotland Premier League</td>\n",
       "      <td>2.633772</td>\n",
       "      <td>1824</td>\n",
       "    </tr>\n",
       "    <tr>\n",
       "      <th>4</th>\n",
       "      <td>Italy Serie A</td>\n",
       "      <td>2.616838</td>\n",
       "      <td>3017</td>\n",
       "    </tr>\n",
       "    <tr>\n",
       "      <th>7</th>\n",
       "      <td>Portugal Liga ZON Sagres</td>\n",
       "      <td>2.534600</td>\n",
       "      <td>2052</td>\n",
       "    </tr>\n",
       "    <tr>\n",
       "      <th>2</th>\n",
       "      <td>France Ligue 1</td>\n",
       "      <td>2.443092</td>\n",
       "      <td>3040</td>\n",
       "    </tr>\n",
       "  </tbody>\n",
       "</table>\n",
       "</div>"
      ],
      "text/plain": [
       "                      League     goals  games\n",
       "5     Netherlands Eredivisie  3.080882   2448\n",
       "10  Switzerland Super League  2.929677   1422\n",
       "3      Germany 1. Bundesliga  2.901552   2448\n",
       "0     Belgium Jupiler League  2.801505   1728\n",
       "9            Spain LIGA BBVA  2.767105   3040\n",
       "1     England Premier League  2.710526   3040\n",
       "8    Scotland Premier League  2.633772   1824\n",
       "4              Italy Serie A  2.616838   3017\n",
       "7   Portugal Liga ZON Sagres  2.534600   2052\n",
       "2             France Ligue 1  2.443092   3040"
      ]
     },
     "execution_count": 45,
     "metadata": {},
     "output_type": "execute_result"
    }
   ],
   "source": [
    "# Avg goals scored per game\n",
    "avg_goals= df_combined.filter(items = ['league','home_team_goal','away_team_goal'])\n",
    "avg_goals['goals'] = avg_goals['home_team_goal'] + avg_goals['away_team_goal']\n",
    "avg_goals = avg_goals.groupby('league')['goals'].mean().rename_axis('league').reset_index()\n",
    "games = df_combined.groupby('league')['match_api_id'].count().rename_axis('league').reset_index()\n",
    "\n",
    "avg_goals = pd.DataFrame(data= avg_goals)\n",
    "\n",
    "games = df_combined.groupby('league')['match_api_id'].count().rename_axis('league').reset_index()\n",
    "\n",
    "combined = avg_goals.merge(games, left_on='league', right_on='league', how='left').rename(columns={\"league\": \"League\",\"match_api_id\": \"games\"})\n",
    "\n",
    "combined.sort_values('goals',ascending= False, inplace=True)\n",
    "combined.head(10)"
   ]
  },
  {
   "cell_type": "markdown",
   "metadata": {},
   "source": [
    ">  The Eredivisie has the highest number of goals per game with 3.08 goals on average over 2448 games, followed by the Switzerland Super League with 2.9 goals on average in 1422 games"
   ]
  },
  {
   "cell_type": "markdown",
   "metadata": {},
   "source": [
    "### Which teams conceeded the most goals over the period?"
   ]
  },
  {
   "cell_type": "code",
   "execution_count": 46,
   "metadata": {},
   "outputs": [
    {
     "data": {
      "text/html": [
       "<div>\n",
       "<style scoped>\n",
       "    .dataframe tbody tr th:only-of-type {\n",
       "        vertical-align: middle;\n",
       "    }\n",
       "\n",
       "    .dataframe tbody tr th {\n",
       "        vertical-align: top;\n",
       "    }\n",
       "\n",
       "    .dataframe thead th {\n",
       "        text-align: right;\n",
       "    }\n",
       "</style>\n",
       "<table border=\"1\" class=\"dataframe\">\n",
       "  <thead>\n",
       "    <tr style=\"text-align: right;\">\n",
       "      <th></th>\n",
       "      <th>country</th>\n",
       "      <th>league</th>\n",
       "      <th>season</th>\n",
       "      <th>stage</th>\n",
       "      <th>date</th>\n",
       "      <th>match_api_id</th>\n",
       "      <th>home_team</th>\n",
       "      <th>away_team</th>\n",
       "      <th>home_team_goal</th>\n",
       "      <th>away_team_goal</th>\n",
       "      <th>result</th>\n",
       "      <th>home_points</th>\n",
       "      <th>away_points</th>\n",
       "    </tr>\n",
       "  </thead>\n",
       "  <tbody>\n",
       "    <tr>\n",
       "      <th>0</th>\n",
       "      <td>Belgium</td>\n",
       "      <td>Belgium Jupiler League</td>\n",
       "      <td>2008/2009</td>\n",
       "      <td>1</td>\n",
       "      <td>2008-08-17 00:00:00</td>\n",
       "      <td>492473</td>\n",
       "      <td>KRC Genk</td>\n",
       "      <td>Beerschot AC</td>\n",
       "      <td>1</td>\n",
       "      <td>1</td>\n",
       "      <td>draw</td>\n",
       "      <td>1</td>\n",
       "      <td>1</td>\n",
       "    </tr>\n",
       "    <tr>\n",
       "      <th>1</th>\n",
       "      <td>Belgium</td>\n",
       "      <td>Belgium Jupiler League</td>\n",
       "      <td>2008/2009</td>\n",
       "      <td>1</td>\n",
       "      <td>2008-08-16 00:00:00</td>\n",
       "      <td>492474</td>\n",
       "      <td>SV Zulte-Waregem</td>\n",
       "      <td>Sporting Lokeren</td>\n",
       "      <td>0</td>\n",
       "      <td>0</td>\n",
       "      <td>draw</td>\n",
       "      <td>1</td>\n",
       "      <td>1</td>\n",
       "    </tr>\n",
       "    <tr>\n",
       "      <th>2</th>\n",
       "      <td>Belgium</td>\n",
       "      <td>Belgium Jupiler League</td>\n",
       "      <td>2008/2009</td>\n",
       "      <td>1</td>\n",
       "      <td>2008-08-16 00:00:00</td>\n",
       "      <td>492475</td>\n",
       "      <td>KSV Cercle Brugge</td>\n",
       "      <td>RSC Anderlecht</td>\n",
       "      <td>0</td>\n",
       "      <td>3</td>\n",
       "      <td>away_win</td>\n",
       "      <td>0</td>\n",
       "      <td>3</td>\n",
       "    </tr>\n",
       "  </tbody>\n",
       "</table>\n",
       "</div>"
      ],
      "text/plain": [
       "   country                  league     season  stage                 date  \\\n",
       "0  Belgium  Belgium Jupiler League  2008/2009      1  2008-08-17 00:00:00   \n",
       "1  Belgium  Belgium Jupiler League  2008/2009      1  2008-08-16 00:00:00   \n",
       "2  Belgium  Belgium Jupiler League  2008/2009      1  2008-08-16 00:00:00   \n",
       "\n",
       "   match_api_id          home_team         away_team  home_team_goal  \\\n",
       "0        492473           KRC Genk      Beerschot AC               1   \n",
       "1        492474   SV Zulte-Waregem  Sporting Lokeren               0   \n",
       "2        492475  KSV Cercle Brugge    RSC Anderlecht               0   \n",
       "\n",
       "   away_team_goal    result  home_points  away_points  \n",
       "0               1      draw            1            1  \n",
       "1               0      draw            1            1  \n",
       "2               3  away_win            0            3  "
      ]
     },
     "execution_count": 46,
     "metadata": {},
     "output_type": "execute_result"
    }
   ],
   "source": [
    "df_combined.head(3)"
   ]
  },
  {
   "cell_type": "code",
   "execution_count": 47,
   "metadata": {},
   "outputs": [],
   "source": [
    "# Get goals conceeded at home and away\n",
    "conceeded_at_home = df_combined.groupby('home_team')['away_team_goal'].sum().rename_axis('home_team').reset_index()\n",
    "conceeded_at_home = pd.DataFrame(data= conceeded_at_home) \n",
    "\n",
    "conceeded_at_away= df_combined.groupby('away_team')['home_team_goal'].sum().rename_axis('away_team').reset_index()\n",
    "conceeded_at_away = pd.DataFrame(data= conceeded_at_away)"
   ]
  },
  {
   "cell_type": "code",
   "execution_count": 48,
   "metadata": {},
   "outputs": [],
   "source": [
    "# combine goals conceeded at home and way to get goals against\n",
    "\n",
    "goals_against = conceeded_at_home.merge(conceeded_at_away, left_on='home_team', right_on='away_team', how='left').rename(columns={\"home_team\": \"team\"})\n",
    "\n",
    "\n",
    "goals_against['ga'] = goals_against['away_team_goal'] + goals_against['home_team_goal']\n",
    "\n",
    "\n",
    "goals_against.sort_values('ga',ascending= False, inplace=True)\n",
    "\n",
    "goals_against = goals_against.filter(items =['team','ga'])\n"
   ]
  },
  {
   "cell_type": "code",
   "execution_count": 49,
   "metadata": {},
   "outputs": [
    {
     "data": {
      "text/html": [
       "<div>\n",
       "<style scoped>\n",
       "    .dataframe tbody tr th:only-of-type {\n",
       "        vertical-align: middle;\n",
       "    }\n",
       "\n",
       "    .dataframe tbody tr th {\n",
       "        vertical-align: top;\n",
       "    }\n",
       "\n",
       "    .dataframe thead th {\n",
       "        text-align: right;\n",
       "    }\n",
       "</style>\n",
       "<table border=\"1\" class=\"dataframe\">\n",
       "  <thead>\n",
       "    <tr style=\"text-align: right;\">\n",
       "      <th></th>\n",
       "      <th>team</th>\n",
       "      <th>ga</th>\n",
       "    </tr>\n",
       "  </thead>\n",
       "  <tbody>\n",
       "    <tr>\n",
       "      <th>235</th>\n",
       "      <td>SV Werder Bremen</td>\n",
       "      <td>471</td>\n",
       "    </tr>\n",
       "    <tr>\n",
       "      <th>7</th>\n",
       "      <td>ADO Den Haag</td>\n",
       "      <td>468</td>\n",
       "    </tr>\n",
       "    <tr>\n",
       "      <th>122</th>\n",
       "      <td>Hannover 96</td>\n",
       "      <td>465</td>\n",
       "    </tr>\n",
       "    <tr>\n",
       "      <th>125</th>\n",
       "      <td>Heracles Almelo</td>\n",
       "      <td>463</td>\n",
       "    </tr>\n",
       "    <tr>\n",
       "      <th>20</th>\n",
       "      <td>Aston Villa</td>\n",
       "      <td>462</td>\n",
       "    </tr>\n",
       "    <tr>\n",
       "      <th>144</th>\n",
       "      <td>Kilmarnock</td>\n",
       "      <td>457</td>\n",
       "    </tr>\n",
       "    <tr>\n",
       "      <th>112</th>\n",
       "      <td>Getafe CF</td>\n",
       "      <td>457</td>\n",
       "    </tr>\n",
       "    <tr>\n",
       "      <th>229</th>\n",
       "      <td>SC Heerenveen</td>\n",
       "      <td>455</td>\n",
       "    </tr>\n",
       "    <tr>\n",
       "      <th>167</th>\n",
       "      <td>Motherwell</td>\n",
       "      <td>446</td>\n",
       "    </tr>\n",
       "    <tr>\n",
       "      <th>256</th>\n",
       "      <td>Sunderland</td>\n",
       "      <td>441</td>\n",
       "    </tr>\n",
       "  </tbody>\n",
       "</table>\n",
       "</div>"
      ],
      "text/plain": [
       "                 team   ga\n",
       "235  SV Werder Bremen  471\n",
       "7        ADO Den Haag  468\n",
       "122       Hannover 96  465\n",
       "125   Heracles Almelo  463\n",
       "20        Aston Villa  462\n",
       "144        Kilmarnock  457\n",
       "112         Getafe CF  457\n",
       "229     SC Heerenveen  455\n",
       "167        Motherwell  446\n",
       "256        Sunderland  441"
      ]
     },
     "execution_count": 49,
     "metadata": {},
     "output_type": "execute_result"
    }
   ],
   "source": [
    "# View top 10 goals against\n",
    "goals_against.head(10)"
   ]
  },
  {
   "cell_type": "markdown",
   "metadata": {},
   "source": [
    ">SV Werder Bremen(Bundesliga) Conceeded 471 goals over the period followed by ADO Den Haag(Eredivisie)  "
   ]
  },
  {
   "cell_type": "markdown",
   "metadata": {},
   "source": [
    "### which of the top 5 european leagues is the most competitive?\n",
    "> Top five selected based on uefa country coefficient [source](https://www.uefa.com/nationalassociations/uefarankings/country/#/yr/2022)"
   ]
  },
  {
   "cell_type": "code",
   "execution_count": 50,
   "metadata": {},
   "outputs": [],
   "source": [
    "def difference_btw(pos_1,pos_2,league, season):\n",
    "    '''Returns Points Difference between two positions in the league table\n",
    "    input: pos_1(int) - The position of the first team\n",
    "         pos_2(int) - The position of the second team\n",
    "         league - The league of the teams e.g \"France Ligue 1\"\n",
    "         season -  the season e.g \"2011/2012\"\n",
    "    \n",
    "    output: diff - point difference between teams       \n",
    "    '''\n",
    "    vals = [season]\n",
    "    table = make_table(league,season)\n",
    "    diff = table['points'].loc[pos_1] - table['points'].loc[pos_2]\n",
    "    vals.append(diff)\n",
    "    return vals\n",
    "\n",
    "\n",
    "def seasons_diff(pos_1,pos_2,league):\n",
    "    ''' Returns dataframe containing point difference between league positions\n",
    "    \n",
    "    input: pos_1(int) - The position of the first team\n",
    "         pos_2(int) - The position of the second team\n",
    "         league - The league of the teams e.g \"France Ligue 1\"\n",
    "    \n",
    "    output: df showing point difference by season\n",
    "    \n",
    "    '''\n",
    "    season = [\"2008/2009\", \"2009/2010\", \"2010/2011\", \"2011/2012\", \"2012/2013\",\n",
    "       \"2013/2014\", \"2014/2015\", \"2015/2016\"]\n",
    "    col2_name = 'Points between {} and {}'.format(pos_1,pos_2)\n",
    "    diff_seasons = []\n",
    "    for year in season:\n",
    "        items = difference_btw(pos_1,pos_2,league,year)\n",
    "        diff_seasons.append(items)\n",
    "    \n",
    "    df = pd.DataFrame(diff_seasons, columns =['Season', col2_name])\n",
    "    return df"
   ]
  },
  {
   "cell_type": "code",
   "execution_count": 51,
   "metadata": {},
   "outputs": [],
   "source": [
    "#plot bar chart\n",
    "\n",
    "def plot_bar(df,league):\n",
    "    ''' return bar plot\n",
    "    input df - dataframe\n",
    "          league (string) - e.g 'French Ligue 1'\n",
    "    \n",
    "    '''\n",
    "    lt = df.plot.barh()\n",
    "    #title\n",
    "    lt.set(title = league)\n",
    "\n",
    "    # on x axis\n",
    "    lt.set_xlabel('Points', color = 'black', fontsize = '15')\n",
    "\n",
    "    #figure size(width, height)\n",
    "    lt.figure.set_size_inches(12, 9)\n",
    "    lt.legend(loc = 7)\n",
    "    plt.grid()\n",
    "    #ploting the graph\n",
    "    return plt.show()"
   ]
  },
  {
   "cell_type": "markdown",
   "metadata": {},
   "source": [
    "**French Ligue 1**"
   ]
  },
  {
   "cell_type": "code",
   "execution_count": 52,
   "metadata": {},
   "outputs": [
    {
     "data": {
      "text/html": [
       "<div>\n",
       "<style scoped>\n",
       "    .dataframe tbody tr th:only-of-type {\n",
       "        vertical-align: middle;\n",
       "    }\n",
       "\n",
       "    .dataframe tbody tr th {\n",
       "        vertical-align: top;\n",
       "    }\n",
       "\n",
       "    .dataframe thead th {\n",
       "        text-align: right;\n",
       "    }\n",
       "</style>\n",
       "<table border=\"1\" class=\"dataframe\">\n",
       "  <thead>\n",
       "    <tr style=\"text-align: right;\">\n",
       "      <th></th>\n",
       "      <th>Points between 1 and 4</th>\n",
       "      <th>Points between 1 and 2</th>\n",
       "    </tr>\n",
       "    <tr>\n",
       "      <th>Seasons</th>\n",
       "      <th></th>\n",
       "      <th></th>\n",
       "    </tr>\n",
       "  </thead>\n",
       "  <tbody>\n",
       "    <tr>\n",
       "      <th>2008/2009</th>\n",
       "      <td>16</td>\n",
       "      <td>3</td>\n",
       "    </tr>\n",
       "    <tr>\n",
       "      <th>2009/2010</th>\n",
       "      <td>8</td>\n",
       "      <td>6</td>\n",
       "    </tr>\n",
       "    <tr>\n",
       "      <th>2010/2011</th>\n",
       "      <td>16</td>\n",
       "      <td>8</td>\n",
       "    </tr>\n",
       "    <tr>\n",
       "      <th>2011/2012</th>\n",
       "      <td>18</td>\n",
       "      <td>3</td>\n",
       "    </tr>\n",
       "    <tr>\n",
       "      <th>2012/2013</th>\n",
       "      <td>19</td>\n",
       "      <td>12</td>\n",
       "    </tr>\n",
       "    <tr>\n",
       "      <th>2013/2014</th>\n",
       "      <td>20</td>\n",
       "      <td>9</td>\n",
       "    </tr>\n",
       "    <tr>\n",
       "      <th>2014/2015</th>\n",
       "      <td>14</td>\n",
       "      <td>8</td>\n",
       "    </tr>\n",
       "    <tr>\n",
       "      <th>2015/2016</th>\n",
       "      <td>33</td>\n",
       "      <td>31</td>\n",
       "    </tr>\n",
       "  </tbody>\n",
       "</table>\n",
       "</div>"
      ],
      "text/plain": [
       "           Points between 1 and 4  Points between 1 and 2\n",
       "Seasons                                                  \n",
       "2008/2009                      16                       3\n",
       "2009/2010                       8                       6\n",
       "2010/2011                      16                       8\n",
       "2011/2012                      18                       3\n",
       "2012/2013                      19                      12\n",
       "2013/2014                      20                       9\n",
       "2014/2015                      14                       8\n",
       "2015/2016                      33                      31"
      ]
     },
     "execution_count": 52,
     "metadata": {},
     "output_type": "execute_result"
    }
   ],
   "source": [
    "# Get differences btw 1st & 2nd ,then that of 1st and 4th\n",
    "france_12 = seasons_diff(1,2,\"France Ligue 1\")\n",
    "france_14 = seasons_diff(1,4,\"France Ligue 1\")\n",
    "france_diff  = france_14.merge(france_12, left_on='Season', right_on='Season', how='left').rename(columns={\"Season\": \"Seasons\"}).set_index('Seasons')\n",
    "france_diff"
   ]
  },
  {
   "cell_type": "code",
   "execution_count": 53,
   "metadata": {},
   "outputs": [
    {
     "data": {
      "text/plain": [
       "10.0"
      ]
     },
     "execution_count": 53,
     "metadata": {},
     "output_type": "execute_result"
    }
   ],
   "source": [
    "# mean difference between top 2 from 2008 - 2015 season\n",
    "france_diff['Points between 1 and 2'].mean()"
   ]
  },
  {
   "cell_type": "code",
   "execution_count": 54,
   "metadata": {},
   "outputs": [
    {
     "data": {
      "text/plain": [
       "18.0"
      ]
     },
     "execution_count": 54,
     "metadata": {},
     "output_type": "execute_result"
    }
   ],
   "source": [
    "# mean difference between 1st and fourth from 2008 - 2015 season\n",
    "france_diff['Points between 1 and 4'].mean()"
   ]
  },
  {
   "cell_type": "code",
   "execution_count": 55,
   "metadata": {},
   "outputs": [
    {
     "data": {
      "image/png": "[encoded data removed]",
      "text/plain": [
       "<matplotlib.figure.Figure at 0x7fa531917748>"
      ]
     },
     "metadata": {
      "needs_background": "light"
     },
     "output_type": "display_data"
    }
   ],
   "source": [
    "plot_bar(france_diff,'France Ligue 1')"
   ]
  },
  {
   "cell_type": "markdown",
   "metadata": {},
   "source": [
    "The french league winner on average leads with 10 points on average, even though Psg won the league with 31 points in 2015/2016, the winner also gaps the 4th place with on average 18 points"
   ]
  },
  {
   "cell_type": "markdown",
   "metadata": {},
   "source": [
    "**England Premier League**"
   ]
  },
  {
   "cell_type": "code",
   "execution_count": 56,
   "metadata": {},
   "outputs": [
    {
     "data": {
      "text/html": [
       "<div>\n",
       "<style scoped>\n",
       "    .dataframe tbody tr th:only-of-type {\n",
       "        vertical-align: middle;\n",
       "    }\n",
       "\n",
       "    .dataframe tbody tr th {\n",
       "        vertical-align: top;\n",
       "    }\n",
       "\n",
       "    .dataframe thead th {\n",
       "        text-align: right;\n",
       "    }\n",
       "</style>\n",
       "<table border=\"1\" class=\"dataframe\">\n",
       "  <thead>\n",
       "    <tr style=\"text-align: right;\">\n",
       "      <th></th>\n",
       "      <th>Points between 1 and 4</th>\n",
       "      <th>Points between 1 and 2</th>\n",
       "    </tr>\n",
       "    <tr>\n",
       "      <th>Seasons</th>\n",
       "      <th></th>\n",
       "      <th></th>\n",
       "    </tr>\n",
       "  </thead>\n",
       "  <tbody>\n",
       "    <tr>\n",
       "      <th>2008/2009</th>\n",
       "      <td>18</td>\n",
       "      <td>4</td>\n",
       "    </tr>\n",
       "    <tr>\n",
       "      <th>2009/2010</th>\n",
       "      <td>16</td>\n",
       "      <td>1</td>\n",
       "    </tr>\n",
       "    <tr>\n",
       "      <th>2010/2011</th>\n",
       "      <td>12</td>\n",
       "      <td>9</td>\n",
       "    </tr>\n",
       "    <tr>\n",
       "      <th>2011/2012</th>\n",
       "      <td>20</td>\n",
       "      <td>0</td>\n",
       "    </tr>\n",
       "    <tr>\n",
       "      <th>2012/2013</th>\n",
       "      <td>16</td>\n",
       "      <td>11</td>\n",
       "    </tr>\n",
       "    <tr>\n",
       "      <th>2013/2014</th>\n",
       "      <td>7</td>\n",
       "      <td>2</td>\n",
       "    </tr>\n",
       "    <tr>\n",
       "      <th>2014/2015</th>\n",
       "      <td>17</td>\n",
       "      <td>8</td>\n",
       "    </tr>\n",
       "    <tr>\n",
       "      <th>2015/2016</th>\n",
       "      <td>15</td>\n",
       "      <td>10</td>\n",
       "    </tr>\n",
       "  </tbody>\n",
       "</table>\n",
       "</div>"
      ],
      "text/plain": [
       "           Points between 1 and 4  Points between 1 and 2\n",
       "Seasons                                                  \n",
       "2008/2009                      18                       4\n",
       "2009/2010                      16                       1\n",
       "2010/2011                      12                       9\n",
       "2011/2012                      20                       0\n",
       "2012/2013                      16                      11\n",
       "2013/2014                       7                       2\n",
       "2014/2015                      17                       8\n",
       "2015/2016                      15                      10"
      ]
     },
     "execution_count": 56,
     "metadata": {},
     "output_type": "execute_result"
    }
   ],
   "source": [
    "# Get differences btw 1st & 2nd ,then that of 1st and 4th\n",
    "england_12 = seasons_diff(1,2,\"England Premier League\")\n",
    "england_14 = seasons_diff(1,4,\"England Premier League\")\n",
    "england_diff  = england_14.merge(england_12, left_on='Season', right_on='Season', how='left').rename(columns={\"Season\": \"Seasons\"}).set_index('Seasons')\n",
    "england_diff"
   ]
  },
  {
   "cell_type": "code",
   "execution_count": 57,
   "metadata": {},
   "outputs": [
    {
     "data": {
      "text/plain": [
       "5.625"
      ]
     },
     "execution_count": 57,
     "metadata": {},
     "output_type": "execute_result"
    }
   ],
   "source": [
    "# mean difference between 1st and second from 2008 - 2015 season\n",
    "england_diff['Points between 1 and 2'].mean()"
   ]
  },
  {
   "cell_type": "code",
   "execution_count": 58,
   "metadata": {},
   "outputs": [
    {
     "data": {
      "text/plain": [
       "15.125"
      ]
     },
     "execution_count": 58,
     "metadata": {},
     "output_type": "execute_result"
    }
   ],
   "source": [
    "# mean difference between 1st and fourth from 2008 - 2015 season\n",
    "england_diff['Points between 1 and 4'].mean()"
   ]
  },
  {
   "cell_type": "code",
   "execution_count": 59,
   "metadata": {},
   "outputs": [
    {
     "data": {
      "image/png": "[encoded data removed]",
      "text/plain": [
       "<matplotlib.figure.Figure at 0x7fa531858978>"
      ]
     },
     "metadata": {
      "needs_background": "light"
     },
     "output_type": "display_data"
    }
   ],
   "source": [
    "plot_bar(england_diff,'England Premier League')"
   ]
  },
  {
   "cell_type": "markdown",
   "metadata": {},
   "source": [
    "England's champion on average leads with 5.6 points and gaps the the 4th place with 15 points on average, though in the 2011/12 season was decided by goal difference between the red and blue half of manchester"
   ]
  },
  {
   "cell_type": "markdown",
   "metadata": {},
   "source": [
    "**Germany, Bundesliga**"
   ]
  },
  {
   "cell_type": "code",
   "execution_count": 60,
   "metadata": {},
   "outputs": [
    {
     "data": {
      "text/html": [
       "<div>\n",
       "<style scoped>\n",
       "    .dataframe tbody tr th:only-of-type {\n",
       "        vertical-align: middle;\n",
       "    }\n",
       "\n",
       "    .dataframe tbody tr th {\n",
       "        vertical-align: top;\n",
       "    }\n",
       "\n",
       "    .dataframe thead th {\n",
       "        text-align: right;\n",
       "    }\n",
       "</style>\n",
       "<table border=\"1\" class=\"dataframe\">\n",
       "  <thead>\n",
       "    <tr style=\"text-align: right;\">\n",
       "      <th></th>\n",
       "      <th>Points between 1 and 4</th>\n",
       "      <th>Points between 1 and 2</th>\n",
       "    </tr>\n",
       "    <tr>\n",
       "      <th>Seasons</th>\n",
       "      <th></th>\n",
       "      <th></th>\n",
       "    </tr>\n",
       "  </thead>\n",
       "  <tbody>\n",
       "    <tr>\n",
       "      <th>2008/2009</th>\n",
       "      <td>6</td>\n",
       "      <td>2</td>\n",
       "    </tr>\n",
       "    <tr>\n",
       "      <th>2009/2010</th>\n",
       "      <td>11</td>\n",
       "      <td>5</td>\n",
       "    </tr>\n",
       "    <tr>\n",
       "      <th>2010/2011</th>\n",
       "      <td>15</td>\n",
       "      <td>7</td>\n",
       "    </tr>\n",
       "    <tr>\n",
       "      <th>2011/2012</th>\n",
       "      <td>21</td>\n",
       "      <td>8</td>\n",
       "    </tr>\n",
       "    <tr>\n",
       "      <th>2012/2013</th>\n",
       "      <td>36</td>\n",
       "      <td>25</td>\n",
       "    </tr>\n",
       "    <tr>\n",
       "      <th>2013/2014</th>\n",
       "      <td>29</td>\n",
       "      <td>19</td>\n",
       "    </tr>\n",
       "    <tr>\n",
       "      <th>2014/2015</th>\n",
       "      <td>18</td>\n",
       "      <td>10</td>\n",
       "    </tr>\n",
       "    <tr>\n",
       "      <th>2015/2016</th>\n",
       "      <td>33</td>\n",
       "      <td>10</td>\n",
       "    </tr>\n",
       "  </tbody>\n",
       "</table>\n",
       "</div>"
      ],
      "text/plain": [
       "           Points between 1 and 4  Points between 1 and 2\n",
       "Seasons                                                  \n",
       "2008/2009                       6                       2\n",
       "2009/2010                      11                       5\n",
       "2010/2011                      15                       7\n",
       "2011/2012                      21                       8\n",
       "2012/2013                      36                      25\n",
       "2013/2014                      29                      19\n",
       "2014/2015                      18                      10\n",
       "2015/2016                      33                      10"
      ]
     },
     "execution_count": 60,
     "metadata": {},
     "output_type": "execute_result"
    }
   ],
   "source": [
    "# Get differences btw 1st & 2nd ,then that of 1st and 4th\n",
    "german_12 = seasons_diff(1,2,\"Germany 1. Bundesliga\")\n",
    "german_14 = seasons_diff(1,4,\"Germany 1. Bundesliga\")\n",
    "german_diff  = german_14.merge(german_12, left_on='Season', right_on='Season', how='left').rename(columns={\"Season\": \"Seasons\"}).set_index('Seasons')\n",
    "german_diff"
   ]
  },
  {
   "cell_type": "code",
   "execution_count": 61,
   "metadata": {},
   "outputs": [
    {
     "data": {
      "text/plain": [
       "10.75"
      ]
     },
     "execution_count": 61,
     "metadata": {},
     "output_type": "execute_result"
    }
   ],
   "source": [
    "# mean difference between 1st and second from 2008 - 2015 season\n",
    "german_diff['Points between 1 and 2'].mean()"
   ]
  },
  {
   "cell_type": "code",
   "execution_count": 62,
   "metadata": {},
   "outputs": [
    {
     "data": {
      "text/plain": [
       "21.125"
      ]
     },
     "execution_count": 62,
     "metadata": {},
     "output_type": "execute_result"
    }
   ],
   "source": [
    "# mean difference between 1st and second from 2008 - 2015 season\n",
    "german_diff['Points between 1 and 4'].mean()"
   ]
  },
  {
   "cell_type": "code",
   "execution_count": 63,
   "metadata": {},
   "outputs": [
    {
     "data": {
      "image/png": "[encoded data removed]",
      "text/plain": [
       "<matplotlib.figure.Figure at 0x7fa53194df60>"
      ]
     },
     "metadata": {
      "needs_background": "light"
     },
     "output_type": "display_data"
    }
   ],
   "source": [
    "plot_bar(german_diff,'Germany 1. Bundesliga')"
   ]
  },
  {
   "cell_type": "markdown",
   "metadata": {},
   "source": [
    "Bundesliga has on average a 10.8 difference between the top 2 and a 21 points difference between the eventual winner and the 4th position, the 2012/2013 season saw a 36 points difference between the first and fourth place"
   ]
  },
  {
   "cell_type": "markdown",
   "metadata": {},
   "source": [
    "**Italy Serie A**"
   ]
  },
  {
   "cell_type": "code",
   "execution_count": 64,
   "metadata": {},
   "outputs": [
    {
     "data": {
      "text/html": [
       "<div>\n",
       "<style scoped>\n",
       "    .dataframe tbody tr th:only-of-type {\n",
       "        vertical-align: middle;\n",
       "    }\n",
       "\n",
       "    .dataframe tbody tr th {\n",
       "        vertical-align: top;\n",
       "    }\n",
       "\n",
       "    .dataframe thead th {\n",
       "        text-align: right;\n",
       "    }\n",
       "</style>\n",
       "<table border=\"1\" class=\"dataframe\">\n",
       "  <thead>\n",
       "    <tr style=\"text-align: right;\">\n",
       "      <th></th>\n",
       "      <th>Points between 1 and 4</th>\n",
       "      <th>Points between 1 and 2</th>\n",
       "    </tr>\n",
       "    <tr>\n",
       "      <th>Seasons</th>\n",
       "      <th></th>\n",
       "      <th></th>\n",
       "    </tr>\n",
       "  </thead>\n",
       "  <tbody>\n",
       "    <tr>\n",
       "      <th>2008/2009</th>\n",
       "      <td>16</td>\n",
       "      <td>10</td>\n",
       "    </tr>\n",
       "    <tr>\n",
       "      <th>2009/2010</th>\n",
       "      <td>15</td>\n",
       "      <td>2</td>\n",
       "    </tr>\n",
       "    <tr>\n",
       "      <th>2010/2011</th>\n",
       "      <td>16</td>\n",
       "      <td>6</td>\n",
       "    </tr>\n",
       "    <tr>\n",
       "      <th>2011/2012</th>\n",
       "      <td>19</td>\n",
       "      <td>2</td>\n",
       "    </tr>\n",
       "    <tr>\n",
       "      <th>2012/2013</th>\n",
       "      <td>17</td>\n",
       "      <td>9</td>\n",
       "    </tr>\n",
       "    <tr>\n",
       "      <th>2013/2014</th>\n",
       "      <td>37</td>\n",
       "      <td>17</td>\n",
       "    </tr>\n",
       "    <tr>\n",
       "      <th>2014/2015</th>\n",
       "      <td>23</td>\n",
       "      <td>17</td>\n",
       "    </tr>\n",
       "    <tr>\n",
       "      <th>2015/2016</th>\n",
       "      <td>24</td>\n",
       "      <td>9</td>\n",
       "    </tr>\n",
       "  </tbody>\n",
       "</table>\n",
       "</div>"
      ],
      "text/plain": [
       "           Points between 1 and 4  Points between 1 and 2\n",
       "Seasons                                                  \n",
       "2008/2009                      16                      10\n",
       "2009/2010                      15                       2\n",
       "2010/2011                      16                       6\n",
       "2011/2012                      19                       2\n",
       "2012/2013                      17                       9\n",
       "2013/2014                      37                      17\n",
       "2014/2015                      23                      17\n",
       "2015/2016                      24                       9"
      ]
     },
     "execution_count": 64,
     "metadata": {},
     "output_type": "execute_result"
    }
   ],
   "source": [
    "# Get differences btw 1st & 2nd ,then that of 1st and 4th\n",
    "italy_12 = seasons_diff(1,2,\"Italy Serie A\")\n",
    "italy_14 = seasons_diff(1,4,\"Italy Serie A\")\n",
    "italy_diff  = italy_14.merge(italy_12, left_on='Season', right_on='Season', how='left').rename(columns={\"Season\": \"Seasons\"}).set_index('Seasons')\n",
    "italy_diff"
   ]
  },
  {
   "cell_type": "code",
   "execution_count": 65,
   "metadata": {},
   "outputs": [
    {
     "data": {
      "text/plain": [
       "9.0"
      ]
     },
     "execution_count": 65,
     "metadata": {},
     "output_type": "execute_result"
    }
   ],
   "source": [
    "# mean difference between 1st and 2nd from 2008 - 2015 season\n",
    "italy_diff['Points between 1 and 2'].mean()"
   ]
  },
  {
   "cell_type": "code",
   "execution_count": 66,
   "metadata": {},
   "outputs": [
    {
     "data": {
      "text/plain": [
       "20.875"
      ]
     },
     "execution_count": 66,
     "metadata": {},
     "output_type": "execute_result"
    }
   ],
   "source": [
    "# mean difference between 1st and 4th from 2008 - 2015 season\n",
    "italy_diff['Points between 1 and 4'].mean()"
   ]
  },
  {
   "cell_type": "code",
   "execution_count": 67,
   "metadata": {},
   "outputs": [
    {
     "data": {
      "image/png": "[encoded data removed]",
      "text/plain": [
       "<matplotlib.figure.Figure at 0x7fa53198eeb8>"
      ]
     },
     "metadata": {
      "needs_background": "light"
     },
     "output_type": "display_data"
    }
   ],
   "source": [
    "plot_bar(italy_diff,'Italy Serie A')"
   ]
  },
  {
   "cell_type": "markdown",
   "metadata": {},
   "source": [
    "In the Italian Serie A, the winner takes the trophy having a 9 points lead on the second place on average and a 20.8 points lead over th fouth place on average, There was a 37 point gap in the 2013/2014 season between the eventual winners and 4th place\t"
   ]
  },
  {
   "cell_type": "markdown",
   "metadata": {},
   "source": [
    "**Spain LIGA BBVA**"
   ]
  },
  {
   "cell_type": "code",
   "execution_count": 68,
   "metadata": {},
   "outputs": [
    {
     "data": {
      "text/html": [
       "<div>\n",
       "<style scoped>\n",
       "    .dataframe tbody tr th:only-of-type {\n",
       "        vertical-align: middle;\n",
       "    }\n",
       "\n",
       "    .dataframe tbody tr th {\n",
       "        vertical-align: top;\n",
       "    }\n",
       "\n",
       "    .dataframe thead th {\n",
       "        text-align: right;\n",
       "    }\n",
       "</style>\n",
       "<table border=\"1\" class=\"dataframe\">\n",
       "  <thead>\n",
       "    <tr style=\"text-align: right;\">\n",
       "      <th></th>\n",
       "      <th>Points between 1 and 4</th>\n",
       "      <th>Points between 1 and 2</th>\n",
       "    </tr>\n",
       "    <tr>\n",
       "      <th>Seasons</th>\n",
       "      <th></th>\n",
       "      <th></th>\n",
       "    </tr>\n",
       "  </thead>\n",
       "  <tbody>\n",
       "    <tr>\n",
       "      <th>2008/2009</th>\n",
       "      <td>20</td>\n",
       "      <td>9</td>\n",
       "    </tr>\n",
       "    <tr>\n",
       "      <th>2009/2010</th>\n",
       "      <td>36</td>\n",
       "      <td>3</td>\n",
       "    </tr>\n",
       "    <tr>\n",
       "      <th>2010/2011</th>\n",
       "      <td>34</td>\n",
       "      <td>4</td>\n",
       "    </tr>\n",
       "    <tr>\n",
       "      <th>2011/2012</th>\n",
       "      <td>42</td>\n",
       "      <td>9</td>\n",
       "    </tr>\n",
       "    <tr>\n",
       "      <th>2012/2013</th>\n",
       "      <td>34</td>\n",
       "      <td>15</td>\n",
       "    </tr>\n",
       "    <tr>\n",
       "      <th>2013/2014</th>\n",
       "      <td>20</td>\n",
       "      <td>3</td>\n",
       "    </tr>\n",
       "    <tr>\n",
       "      <th>2014/2015</th>\n",
       "      <td>17</td>\n",
       "      <td>2</td>\n",
       "    </tr>\n",
       "    <tr>\n",
       "      <th>2015/2016</th>\n",
       "      <td>27</td>\n",
       "      <td>1</td>\n",
       "    </tr>\n",
       "  </tbody>\n",
       "</table>\n",
       "</div>"
      ],
      "text/plain": [
       "           Points between 1 and 4  Points between 1 and 2\n",
       "Seasons                                                  \n",
       "2008/2009                      20                       9\n",
       "2009/2010                      36                       3\n",
       "2010/2011                      34                       4\n",
       "2011/2012                      42                       9\n",
       "2012/2013                      34                      15\n",
       "2013/2014                      20                       3\n",
       "2014/2015                      17                       2\n",
       "2015/2016                      27                       1"
      ]
     },
     "execution_count": 68,
     "metadata": {},
     "output_type": "execute_result"
    }
   ],
   "source": [
    "# Get differences btw 1st & 2nd ,then that of 1st and 4th\n",
    "spain_12 = seasons_diff(1,2,\"Spain LIGA BBVA\")\n",
    "spain_14 = seasons_diff(1,4,\"Spain LIGA BBVA\")\n",
    "spain_diff  = spain_14.merge(spain_12, left_on='Season', right_on='Season', how='left').rename(columns={\"Season\": \"Seasons\"}).set_index('Seasons')\n",
    "spain_diff"
   ]
  },
  {
   "cell_type": "code",
   "execution_count": 69,
   "metadata": {},
   "outputs": [
    {
     "data": {
      "text/plain": [
       "5.75"
      ]
     },
     "execution_count": 69,
     "metadata": {},
     "output_type": "execute_result"
    }
   ],
   "source": [
    "# mean difference between 1st and 2nd from 2008 - 2015 season\n",
    "spain_diff['Points between 1 and 2'].mean()"
   ]
  },
  {
   "cell_type": "code",
   "execution_count": 70,
   "metadata": {},
   "outputs": [
    {
     "data": {
      "text/plain": [
       "28.75"
      ]
     },
     "execution_count": 70,
     "metadata": {},
     "output_type": "execute_result"
    }
   ],
   "source": [
    "# mean difference between 1st and 4th from 2008 - 2015 season\n",
    "spain_diff['Points between 1 and 4'].mean()"
   ]
  },
  {
   "cell_type": "code",
   "execution_count": 71,
   "metadata": {},
   "outputs": [
    {
     "data": {
      "image/png": "[encoded data removed]",
      "text/plain": [
       "<matplotlib.figure.Figure at 0x7fa531703278>"
      ]
     },
     "metadata": {
      "needs_background": "light"
     },
     "output_type": "display_data"
    }
   ],
   "source": [
    "plot_bar(spain_diff,'Spain LIGA BBVA')"
   ]
  },
  {
   "cell_type": "markdown",
   "metadata": {},
   "source": [
    "For Spain its usually tight between the top two teams with a 5.75 points difference on average, same can't be said about the 4th place , with the leader taking a 28.75 points gap over the 4th place, the 2011/2012 saw 42 points difference between 1st and 4th place, recording the highest difference in a season across the top five european leagues in the period "
   ]
  },
  {
   "cell_type": "markdown",
   "metadata": {},
   "source": [
    "**Different champoins in the last 8 years**"
   ]
  },
  {
   "cell_type": "code",
   "execution_count": 72,
   "metadata": {},
   "outputs": [],
   "source": [
    "def diff_winners(league,season):\n",
    "    '''league(string)- name of league\n",
    "        season(string)- list containing seasons\n",
    "        returns df containig number of different winners for given seasons\n",
    "    '''\n",
    "    winners = []\n",
    "    for year in seasons:\n",
    "        # make table\n",
    "        df = make_table(league,year)\n",
    "        # Get first place club\n",
    "        champion = df['club'].loc[1]\n",
    "        # Add to list\n",
    "        winners.append(champion)\n",
    "    \n",
    "    # Number of unique winners\n",
    "    winners_count = len(set(winners))\n",
    "    # Make dataframe\n",
    "    d = {'League': [league], 'Number of Different winners': [winners_count]}\n",
    "    df = pd.DataFrame(data=d)\n",
    "    return df\n",
    "# List of seasons\n",
    "seasons =['2008/2009', '2009/2010', '2010/2011', '2011/2012', '2012/2013','2013/2014', '2014/2015', '2015/2016']\n",
    "\n",
    "\n",
    "def diff_top4(league,season):\n",
    "    '''league(string)- name of league\n",
    "        season(string)- list containing seasons\n",
    "        returns df containig number of different top 4 teams for given seasons\n",
    "    '''\n",
    "    top_4 = []\n",
    "    for year in seasons:\n",
    "        # make table\n",
    "        df = make_table(league,year)\n",
    "        # Get and append top 4 club\n",
    "        top_4.append(df['club'].loc[1])\n",
    "        top_4.append(df['club'].loc[2])\n",
    "        top_4.append(df['club'].loc[3])\n",
    "        top_4.append(df['club'].loc[4])\n",
    "        \n",
    "    \n",
    "    #Number of unique top 4 members\n",
    "    top_4_count = len(set(top_4))\n",
    "    # Make dataframe\n",
    "    d = {'League': [league], 'Number of Different top 4': [top_4_count]}\n",
    "    df = pd.DataFrame(data=d)\n",
    "    return df\n",
    "# List of seasons\n",
    "seasons =['2008/2009', '2009/2010', '2010/2011', '2011/2012', '2012/2013','2013/2014', '2014/2015', '2015/2016']"
   ]
  },
  {
   "cell_type": "code",
   "execution_count": 73,
   "metadata": {},
   "outputs": [
    {
     "data": {
      "text/html": [
       "<div>\n",
       "<style scoped>\n",
       "    .dataframe tbody tr th:only-of-type {\n",
       "        vertical-align: middle;\n",
       "    }\n",
       "\n",
       "    .dataframe tbody tr th {\n",
       "        vertical-align: top;\n",
       "    }\n",
       "\n",
       "    .dataframe thead th {\n",
       "        text-align: right;\n",
       "    }\n",
       "</style>\n",
       "<table border=\"1\" class=\"dataframe\">\n",
       "  <thead>\n",
       "    <tr style=\"text-align: right;\">\n",
       "      <th></th>\n",
       "      <th>League</th>\n",
       "      <th>Number of Different winners</th>\n",
       "    </tr>\n",
       "  </thead>\n",
       "  <tbody>\n",
       "    <tr>\n",
       "      <th>0</th>\n",
       "      <td>Germany 1. Bundesliga</td>\n",
       "      <td>3</td>\n",
       "    </tr>\n",
       "    <tr>\n",
       "      <th>1</th>\n",
       "      <td>England Premier League</td>\n",
       "      <td>4</td>\n",
       "    </tr>\n",
       "    <tr>\n",
       "      <th>2</th>\n",
       "      <td>Spain LIGA BBVA</td>\n",
       "      <td>3</td>\n",
       "    </tr>\n",
       "    <tr>\n",
       "      <th>3</th>\n",
       "      <td>France Ligue 1</td>\n",
       "      <td>5</td>\n",
       "    </tr>\n",
       "    <tr>\n",
       "      <th>4</th>\n",
       "      <td>Italy Serie A</td>\n",
       "      <td>3</td>\n",
       "    </tr>\n",
       "  </tbody>\n",
       "</table>\n",
       "</div>"
      ],
      "text/plain": [
       "                   League  Number of Different winners\n",
       "0   Germany 1. Bundesliga                            3\n",
       "1  England Premier League                            4\n",
       "2         Spain LIGA BBVA                            3\n",
       "3          France Ligue 1                            5\n",
       "4           Italy Serie A                            3"
      ]
     },
     "execution_count": 73,
     "metadata": {},
     "output_type": "execute_result"
    }
   ],
   "source": [
    "germany = diff_winners('Germany 1. Bundesliga',seasons)\n",
    "england = diff_winners('England Premier League',seasons)\n",
    "spain = diff_winners('Spain LIGA BBVA',seasons)\n",
    "france = diff_winners('France Ligue 1',seasons)\n",
    "italy = diff_winners('Italy Serie A',seasons)\n",
    "diff_champs = pd.concat([germany,england,spain,france,italy], ignore_index=True)\n",
    "diff_champs"
   ]
  },
  {
   "cell_type": "code",
   "execution_count": 74,
   "metadata": {},
   "outputs": [
    {
     "data": {
      "image/png": "[encoded data removed]",
      "text/plain": [
       "<matplotlib.figure.Figure at 0x7fa53170fb38>"
      ]
     },
     "metadata": {
      "needs_background": "light"
     },
     "output_type": "display_data"
    }
   ],
   "source": [
    "fig = plt.figure()\n",
    "ax = fig.add_axes([0,0,1,1])\n",
    "ax.barh(diff_champs['League'],diff_champs['Number of Different winners'])\n",
    "ax.set(title = 'Different League winners from 2008 to 2015 season')\n",
    "plt.show()"
   ]
  },
  {
   "cell_type": "markdown",
   "metadata": {},
   "source": [
    "The French league has had five different winners during the period followed by the English premier league with four. "
   ]
  },
  {
   "cell_type": "code",
   "execution_count": 75,
   "metadata": {},
   "outputs": [
    {
     "data": {
      "text/html": [
       "<div>\n",
       "<style scoped>\n",
       "    .dataframe tbody tr th:only-of-type {\n",
       "        vertical-align: middle;\n",
       "    }\n",
       "\n",
       "    .dataframe tbody tr th {\n",
       "        vertical-align: top;\n",
       "    }\n",
       "\n",
       "    .dataframe thead th {\n",
       "        text-align: right;\n",
       "    }\n",
       "</style>\n",
       "<table border=\"1\" class=\"dataframe\">\n",
       "  <thead>\n",
       "    <tr style=\"text-align: right;\">\n",
       "      <th></th>\n",
       "      <th>League</th>\n",
       "      <th>Number of Different top 4</th>\n",
       "    </tr>\n",
       "  </thead>\n",
       "  <tbody>\n",
       "    <tr>\n",
       "      <th>0</th>\n",
       "      <td>Germany 1. Bundesliga</td>\n",
       "      <td>10</td>\n",
       "    </tr>\n",
       "    <tr>\n",
       "      <th>1</th>\n",
       "      <td>England Premier League</td>\n",
       "      <td>7</td>\n",
       "    </tr>\n",
       "    <tr>\n",
       "      <th>2</th>\n",
       "      <td>Spain LIGA BBVA</td>\n",
       "      <td>9</td>\n",
       "    </tr>\n",
       "    <tr>\n",
       "      <th>3</th>\n",
       "      <td>France Ligue 1</td>\n",
       "      <td>11</td>\n",
       "    </tr>\n",
       "    <tr>\n",
       "      <th>4</th>\n",
       "      <td>Italy Serie A</td>\n",
       "      <td>10</td>\n",
       "    </tr>\n",
       "  </tbody>\n",
       "</table>\n",
       "</div>"
      ],
      "text/plain": [
       "                   League  Number of Different top 4\n",
       "0   Germany 1. Bundesliga                         10\n",
       "1  England Premier League                          7\n",
       "2         Spain LIGA BBVA                          9\n",
       "3          France Ligue 1                         11\n",
       "4           Italy Serie A                         10"
      ]
     },
     "execution_count": 75,
     "metadata": {},
     "output_type": "execute_result"
    }
   ],
   "source": [
    "germany = diff_top4('Germany 1. Bundesliga',seasons)\n",
    "england = diff_top4('England Premier League',seasons)\n",
    "spain = diff_top4('Spain LIGA BBVA',seasons)\n",
    "france = diff_top4('France Ligue 1',seasons)\n",
    "italy = diff_top4('Italy Serie A',seasons)\n",
    "diff_top4 = pd.concat([germany,england,spain,france,italy], ignore_index=True)\n",
    "diff_top4"
   ]
  },
  {
   "cell_type": "code",
   "execution_count": 76,
   "metadata": {},
   "outputs": [
    {
     "data": {
      "image/png": "[encoded data removed]",
      "text/plain": [
       "<matplotlib.figure.Figure at 0x7fa530c184a8>"
      ]
     },
     "metadata": {
      "needs_background": "light"
     },
     "output_type": "display_data"
    }
   ],
   "source": [
    "fig = plt.figure()\n",
    "ax = fig.add_axes([0,0,1,1])\n",
    "ax.barh(diff_top4['League'],diff_top4['Number of Different top 4'])\n",
    "#title\n",
    "ax.set(title = 'Different top 4 clubs from 2008 to 2015 season')\n",
    "# on x axis\n",
    "ax.set_xlabel('Count', color = 'black', fontsize = '15')\n",
    "plt.show()"
   ]
  },
  {
   "cell_type": "markdown",
   "metadata": {},
   "source": [
    "The French Ligue 1 had eleven different in it's top four positions from 2008 to 2015, while the Bundesliga and Serie A had ten each, the English premier league had 7 different clubs alluding to the big 6 clubs who normally dominate the league in the past decade"
   ]
  },
  {
   "cell_type": "markdown",
   "metadata": {},
   "source": [
    "<a id='conclusions'></a>\n",
    "## Conclusions\n",
    "\n",
    "**Conclusions**\n",
    "\n",
    ">At the end of this interesting data analysis. I discovered some unexpected facts about the football teams and leagues. Here are some of the insights I ganered:\n",
    "\n",
    ">Between a Home win, draw and an away win, the most frequent occurence in this dataset is a home win 45.87% , followed by an away win 28.7, and finally the least frequent is a draw with 25.39%\n",
    "\n",
    ">Fc Barcelona of Spain had the most wins during the period with 234 wins, closely followed by their la liga rivals Real Madrid with 228 wins\n",
    "\n",
    "\n",
    ">The Eredivisie has the highest number of goals per game with 3.08 goals on average over 2448 games, followed by the Switzerland Super League with 2.9 goals on average in 1422 games\n",
    "\n",
    "\n",
    ">SV Werder Bremen(Bundesliga) Conceeded 471 goals over the period followed by ADO Den Haag(Eredivisie) who conceeded 468 goals in the period\n",
    "\n",
    ">The English Premier league and The French ligue 1 seems to be the most competitive of the top five european league, with 4 and 5 different winners respectively between 2008 and 2015, ligue 1 also had 11 different teams making the top 4 places, while the Epl has a 5.6 point gap on average between the top two teams, with the 2011/12 season decided by goal difference between the red and blue half of Manchester. \n",
    "\n",
    "\n",
    "\n",
    "\n",
    "\n",
    "\n",
    "\n",
    "\n",
    "\n",
    "**Limitations:**\n",
    "\n",
    ">This analysis was done considering the points, league winners and top 4 teams to decide which league was the most competitive, however other metrics could have been used \n",
    "\n",
    ">The matches dataset only contains values from the 2008 to 2015 season, an updated data will be needed for a more current analysis\n",
    "\n"
   ]
  },
  {
   "cell_type": "code",
   "execution_count": 77,
   "metadata": {},
   "outputs": [
    {
     "data": {
      "text/plain": [
       "0"
      ]
     },
     "execution_count": 77,
     "metadata": {},
     "output_type": "execute_result"
    }
   ],
   "source": [
    "from subprocess import call\n",
    "call(['python', '-m', 'nbconvert', 'Investigate_a_Dataset.ipynb'])"
   ]
  },
  {
   "cell_type": "code",
   "execution_count": null,
   "metadata": {},
   "outputs": [],
   "source": []
  },
  {
   "cell_type": "code",
   "execution_count": null,
   "metadata": {},
   "outputs": [],
   "source": []
  }
 ],
 "metadata": {
  "kernelspec": {
   "display_name": "Python 3",
   "language": "python",
   "name": "python3"
  },
  "language_info": {
   "codemirror_mode": {
    "name": "ipython",
    "version": 3
   },
   "file_extension": ".py",
   "mimetype": "text/x-python",
   "name": "python",
   "nbconvert_exporter": "python",
   "pygments_lexer": "ipython3",
   "version": "3.6.3"
  }
 },
 "nbformat": 4,
 "nbformat_minor": 2
}
